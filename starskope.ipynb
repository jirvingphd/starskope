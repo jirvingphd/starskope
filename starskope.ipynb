{
 "cells": [
  {
   "cell_type": "markdown",
   "metadata": {},
   "source": [
    "# `STARSKØPE`\n",
    "\n",
    "\n",
    "\n",
    "**Building a Cyberoptic Neural Network Telescope for Astrophysical Object Classification**\n",
    "\n",
    "> Flatiron School Capstone Project\n",
    "* `Author: Ru Keïn`\n",
    "* `Instructor: James Irving PhD`\n",
    "* `Data Science Full-Time Program`\n",
    "* `Blog post URL:` http://www.hakkeray.com/datascience/2020/03/22/planetX-hunter-classification-algorithms.html\n",
    "* `Non-Technical Presentation`: Datascience-CAPSTONE-starskope.pdf"
   ]
  },
  {
   "cell_type": "markdown",
   "metadata": {},
   "source": [
    "    Note: this project is divided into 3 notebooks:\n",
    "\n",
    "    starskøpe I : Keras Neural Network Model (this notebook)\n",
    "    starskøpe II: Computer Vision/Restricted Boltzmann Machines for Spectographs\n",
    "    starskøpe III: CV/RBMs for Fourier Transformed Spectographs"
   ]
  },
  {
   "cell_type": "markdown",
   "metadata": {},
   "source": [
    "# Mission Brief\n",
    "\n",
    "## ABSTRACT\n",
    "\n",
    "> \"Mathematicians [...] are often led astray when 'studying' physics because they lose sight of the physics. \n",
    "They say: *'Look, these differential equations--the Maxwell equations--are all there is to electrodynamics; it is admitted by the physicists that there is nothing which is not contained in the equations. The equations are complicated, but after all they are only mathematical equations and if I understand them mathematically inside out, I will understand the physics inside out.'* Only it doesn't work that way. Mathematicians who study physics with that point of view--and there have been many of them--usually make little contribution to physics and, in fact, little to mathematics. They fail because the actual physical situations in the real world are so complicated that it is necessary to have a much broader understanding of the equations.\"\n",
    "**-Richard Feynman, *The Feynman Lectures on Physics: Volume 2*, Chapter 2-1: \"Differential Calculus of Vector Fields\"**\n",
    "\n",
    "---\n",
    "\n",
    "**INTRODUCTION**\n",
    "One of the reasons I quote Mr. Feynman above is because I set out to work on this project with only one year of high school physics under my belt. Despite loving the subject and even getting an A- in that one class, for some reason I did not continue pursuing physics while in school. I bought the Feynman lectures a few years back (on a whim? who does that?) and as soon as I began preparing for this project I felt intuitively that it would be somewhat ridiculous for me to build neural networks for classifying astrophysical data if I had no idea what the data meant beyond a surface level (i.e. Google), let alone on an intimate, perhaps even quantum scale. \n",
    "\n",
    "**BACKGROUND**\n",
    "I'm intensely curious about why things work the way they do, and I'm not satisified by the answer unless I know the math behind it too. During the course of this Capstone project, I somehow managed to (that is, found it extremely necessary to) read almost all of Parts I and II of the Feynman lectures. I did that because I wanted to understand the physics, not just the math. The underlying question I am asking  -- and the ultimate argument I am proposing for astrophysics-related applications of machine learning in general -- is one that I believe Richard Feynman would agree with, were he around still today: *machine learning models for physics need to take physics into account, not simply the math.* After all, we train our own brains' neurons by learning physics before we go around making statements and predictions about the universe. Shouldn't we do the same for our algorithms?\n",
    "\n",
    "**QUESTIONS**\n",
    "For this project, the specific questions I am looking to answer are as follows: \n",
    "\n",
    "    1. Can a transiting exoplanet be detected strictly by analyzing the raw flux values of a given star? \n",
    "    2. What kind of normalization, de-noising, and/or unit conversion is necessary in order for the analysis to be accurate? \n",
    "    3. How much signal-to-noise ratio is too much? That is, if the classes are highly imbalanced, for instance only a few planets can be confirmed out of thousands of stars, does the imbalance make for an unreliable or inaccurate model? \n",
    "    4. How do we test and validate that?\n",
    "  \n",
    "To recap, the overall question is: how much actual physics do we need to know and understand as data scientists in order to make good (or preferably, great) data scientists for the world of space exploration (and thus the fields of astrophysics, astronomy, and aerospace)?\n",
    "\n",
    "**DATASET**\n",
    "To answer the above questions, I started the analysis with a labeled timeseries dataset from Kaggle posted by NASA several years ago. The reason I chose this particular dataset is because in terms of the type of information we typically need to know in order to solve a physics problem -- the primary one being UNITS, otherwise it's a math problem! -- this one is barren. The author who posted the dataset (`Winter Delta` or `W∆`) does however give us a few hints on how we *could* determine the units, and the dimensions, and a lot of other important physics-related information, if we do a little research. The biggest hint is that this dataset is from the K2 space telescope's Campaign 3 observations in which only 42 confirmed exoplanets are detected in a set of over 5,000 stars. Looking at the dataset on its own (before doing any digging), we are given little information about how long the time period covers, and we know do not know what the time intervals between flux values are. So far, this has not stopped any data scientists from attempting to tackle the classification model without gathering any additional information. \n",
    "\n",
    "**MODEL**\n",
    "To answer the question, I first set out to build a model for the data as is, \"sans-physics\". The baseline model is a neural network using the Keras API in a sci-kit learn wrapper.  \n",
    "\n",
    "**RESULTS**\n",
    "I was able to identify with 99% accuracy the handful of stars (5) in the test dataset that have a confirmed exoplanet in their orbit. \n",
    "\n",
    "**CONCLUSION**\n",
    "This baseline model is mathematically accurate, but it does not \"understand physics\". The conclusion we need to make about the model is whether or not this lack of physics embedded in the training process (or even pre-training process) is acceptable or not.\n",
    "\n",
    "While it is possible to create a 99% accurate machine learning model for detecting exoplanets using the raw flux values, without any sense of the actual time intervals, and with a highly imbalanced data set (imbalanced meaning only a few positive examples in a sea of negatives) - it is unclear that we can \"get away with\" this in every case. Furthermore, it is unlikely that could feel completely sure that we aren't missing out on critical information - such as detecting the existence of an earth-like exoplanet transiting a star - if we don't use our understanding of physics to further de-noise, normalize, and scale the data before training the model (and possibly even embed this into a pre-training phase). As a case in point, if you read any of the space telescope handbooks, you will quickly learn just how complex the instruments that are producng this data are, and that the way their technology works, when and where in the sky they were pointing, as well as what actually happened during their missions, you'd know that should all probably be taken into account in your model! The K2 data in particular, for instance, has a unique issue that every so often its thrusters would fire to adjust/maintain its position in the sky, causing data at multiple points to be completely useless. \n",
    "\n",
    "*Why that matters...*\n",
    "This type of noise cannot be removed without knowing what exact times the thrusters fired, as well as what times each of the observations of the dataset occurred. Even if we do manage to throw the bad data out, we are still stuck with the problem of not having any data for that time period, and once again might miss our potential planet's threshold crossing event! If we know where and when those missing pieces occur, we could use that to collect our missing data from another telescope like TESS, which has overlapping targets of observation. A model that can combine data from two different space telescopes, and be smart enough to know based on the telescope it came from how to handle the data, would make truly accurate predictions, and much more useful classifications. \n",
    "\n",
    "*What we can do about that...*\n",
    "This is the type of model I will set out to build in my future work. This is what we would call a cyberoptic artificial telescope - one that can aggregate large datasets from multiple missions and give us a more accurate, more detailed picture of the stars and planets than what we have available to us in the limited view of a single picture from a single telescope at a single point in time. This is the vision for *STARSKØPE* which will come out of this project.\n",
    "\n",
    "**RECOMMENDATIONS**\n",
    "My recommendations are the following:\n",
    "\n",
    "   1. Use datasets from the MAST website (via API) to incorporate other calculations of the star's properties as features to be used for classification algorithms. Furthermore, attempt other types of transformations and normalizations on the data before running the model - for instance, apply a Fourier transform.\n",
    "\n",
    "   2. Combine data from multiple campaigns and perhaps even multiple telescopes (for instance, matching sky coordinates and time intervals between K2, Kepler, and TESS for a batch of stars that have overlapping observations - this would be critical for finding transit periods that are longer than the campaigns of a single telecope's observation period).\n",
    "\n",
    "   3. Explore using computer vision on not only the Full Frame images we can collect from telescopes like TESS, but also on spectographs of the flux values themselves. The beauty of machine learning is our ability to rely on the computer to pick up very small nuances in differences that we ourselves cannot see with our own eyes. \n",
    "   \n",
    "   4. Explore using autoencoded machine learning algorithms with Restricted Boltzmann Machines - this type of model has proven to be incredibly effective in the image analysis of handwriting as we've seen applied the MNIST dataset - let's find out if the same is true for images of stars, be they the Full Frame Images or spectographs.\n",
    "\n",
    "**FUTURE WORK**\n",
    "To continue this project, I'll take another approach for detecting exoplanets using computer vision to analyze images of spectographs of this same star flux data set. Please go to the notebook `[starskøpe-2]` to see how I use a Restricted Boltzmann Machines neural network model to classify stars as exoplanet hosts using spectograph images of the flux values to find transiting exoplanets. Following this, I will apply the same algorithm to spectographs of Fourier transformed data, as you will see in `[starskøpe-3]`. \n",
    "\n",
    "Additional future work following this project will be to develop my \"cyberoptic artificial telescope\" as a machine learning driven application that any astrophysicist can use to look at a single or collection of stars and have the model classify them according not only to exoplanet predictions, but also predict what type of star it is, and other key properties that would be of interest for astrophysical science applications.\n"
   ]
  },
  {
   "cell_type": "markdown",
   "metadata": {},
   "source": [
    "# Obtain\n",
    "\n",
    "Begin by importing libraries and code packages for basic analysis, as well as the kaggle dataset."
   ]
  },
  {
   "cell_type": "code",
   "execution_count": 1,
   "metadata": {
    "ExecuteTime": {
     "end_time": "2020-04-14T20:54:42.876700Z",
     "start_time": "2020-04-14T20:54:41.543539Z"
    }
   },
   "outputs": [],
   "source": [
    "# Import code packages and libraries\n",
    "import numpy as np\n",
    "import pandas as pd\n",
    "import matplotlib as mpl\n",
    "%matplotlib inline\n",
    "from matplotlib.colors import LogNorm\n",
    "\n",
    "import seaborn as sns\n",
    "sns.set_style('whitegrid')\n",
    "import matplotlib.pyplot as plt\n",
    "plt.style.use('seaborn-bright')\n",
    " \n",
    "\n",
    "font_dict={'family':'\"Titillium Web\", monospace','size':16}\n",
    "mpl.rc('font',**font_dict)\n",
    "\n",
    "\n",
    "#ignore pink warnings\n",
    "import warnings\n",
    "warnings.filterwarnings('ignore')\n",
    "# Allow for large # columns\n",
    "pd.set_option('display.max_columns', 0)\n",
    "# pd.set_option('display.max_rows','')"
   ]
  },
  {
   "cell_type": "markdown",
   "metadata": {},
   "source": [
    "Import dataset which has already been split into train and test sets, `exoTrain.csv.zip` and `exoTest.csv.zip` (I compressed them from their original csv format since the training set is > 240 MB so we'll to unzip them)."
   ]
  },
  {
   "cell_type": "code",
   "execution_count": 2,
   "metadata": {
    "ExecuteTime": {
     "end_time": "2020-04-14T20:54:42.888151Z",
     "start_time": "2020-04-14T20:54:42.880098Z"
    }
   },
   "outputs": [
    {
     "data": {
      "text/plain": [
       "['Datascience-CAPSTONE-starskope.pdf',\n",
       " 'LICENSE',\n",
       " 'starskope-2.ipynb',\n",
       " '288_planetbleed1600.jpeg',\n",
       " 'README.md',\n",
       " 'starskope.ipynb',\n",
       " 'starskope-2-colab.ipynb',\n",
       " '.gitignore',\n",
       " '_config.yml',\n",
       " '.ipynb_checkpoints',\n",
       " '.git',\n",
       " 'DATA']"
      ]
     },
     "execution_count": 2,
     "metadata": {},
     "output_type": "execute_result"
    }
   ],
   "source": [
    "import os, glob, sys\n",
    "\n",
    "home = os.path.abspath(os.curdir)\n",
    "\n",
    "os.listdir(home)"
   ]
  },
  {
   "cell_type": "code",
   "execution_count": 3,
   "metadata": {
    "ExecuteTime": {
     "end_time": "2020-04-14T20:54:43.018821Z",
     "start_time": "2020-04-14T20:54:42.890470Z"
    }
   },
   "outputs": [
    {
     "name": "stdout",
     "output_type": "stream",
     "text": [
      "/Users/jamesirving/Documents/GitHub/_MOD PROJECTS/STUDENT NOTEBOOKS/Ru/starskope/DATA\n",
      "\u001b[34m__MACOSX\u001b[m\u001b[m/         exoTest.csv       exoTrain.csv\r\n",
      "exoTableDraw.R    exoTest.csv.zip   exoTrain.csv.zip\r\n"
     ]
    }
   ],
   "source": [
    "# %cd ../\n",
    "%cd data\n",
    "%ls"
   ]
  },
  {
   "cell_type": "code",
   "execution_count": 4,
   "metadata": {
    "ExecuteTime": {
     "end_time": "2020-04-14T20:54:43.023326Z",
     "start_time": "2020-04-14T20:54:43.020731Z"
    }
   },
   "outputs": [],
   "source": [
    "# uncomment below if you need to unzip the data files\n",
    "# !unzip -q 'exoTrain.csv.zip'\n",
    "# !unzip -q 'exoTest.csv.zip'\n",
    "# %ls"
   ]
  },
  {
   "cell_type": "code",
   "execution_count": 5,
   "metadata": {
    "ExecuteTime": {
     "end_time": "2020-04-14T20:54:49.151370Z",
     "start_time": "2020-04-14T20:54:43.024868Z"
    }
   },
   "outputs": [],
   "source": [
    "train = pd.read_csv('exoTrain.csv')\n",
    "test = pd.read_csv('exoTest.csv')"
   ]
  },
  {
   "cell_type": "code",
   "execution_count": 6,
   "metadata": {
    "ExecuteTime": {
     "end_time": "2020-04-14T20:54:49.157430Z",
     "start_time": "2020-04-14T20:54:49.153217Z"
    }
   },
   "outputs": [
    {
     "name": "stdout",
     "output_type": "stream",
     "text": [
      "/Users/jamesirving/Documents/GitHub/_MOD PROJECTS/STUDENT NOTEBOOKS/Ru/starskope\n"
     ]
    }
   ],
   "source": [
    "# cd backto home / root directory\n",
    "%cd ../"
   ]
  },
  {
   "cell_type": "markdown",
   "metadata": {},
   "source": [
    "# Scrub\n",
    "\n",
    "Initial inspection of data, reviewing the features, target (if any), datatypes, and checking for nulls."
   ]
  },
  {
   "cell_type": "markdown",
   "metadata": {},
   "source": [
    "LABEL is our target column, the remaining 3197 columns are the \"features\" which in this case make up the frequency of the signal from each star.\n",
    "\n",
    "Each star's light frequency makes up a single row of data collected over the course of the campaign (#3), which in this case for K2 campaign 3 was a little over 60 days (campaigns are normally ~80 days but c3 ended early due to data storage capacity issues. \n",
    "\n",
    "If we crunch the numbers we'll see this means it's 29.4 minutes between each flux measurement, also known as the cadence. This also lines up with the information available in the K2 handbook."
   ]
  },
  {
   "cell_type": "code",
   "execution_count": 7,
   "metadata": {
    "ExecuteTime": {
     "end_time": "2020-04-14T20:54:49.490548Z",
     "start_time": "2020-04-14T20:54:49.158807Z"
    }
   },
   "outputs": [
    {
     "data": {
      "text/html": [
       "<div>\n",
       "<style scoped>\n",
       "    .dataframe tbody tr th:only-of-type {\n",
       "        vertical-align: middle;\n",
       "    }\n",
       "\n",
       "    .dataframe tbody tr th {\n",
       "        vertical-align: top;\n",
       "    }\n",
       "\n",
       "    .dataframe thead th {\n",
       "        text-align: right;\n",
       "    }\n",
       "</style>\n",
       "<table border=\"1\" class=\"dataframe\">\n",
       "  <thead>\n",
       "    <tr style=\"text-align: right;\">\n",
       "      <th></th>\n",
       "      <th>LABEL</th>\n",
       "      <th>FLUX.1</th>\n",
       "      <th>FLUX.2</th>\n",
       "      <th>FLUX.3</th>\n",
       "      <th>FLUX.4</th>\n",
       "      <th>FLUX.5</th>\n",
       "      <th>FLUX.6</th>\n",
       "      <th>FLUX.7</th>\n",
       "      <th>FLUX.8</th>\n",
       "      <th>FLUX.9</th>\n",
       "      <th>FLUX.10</th>\n",
       "      <th>FLUX.11</th>\n",
       "      <th>FLUX.12</th>\n",
       "      <th>FLUX.13</th>\n",
       "      <th>FLUX.14</th>\n",
       "      <th>FLUX.15</th>\n",
       "      <th>FLUX.16</th>\n",
       "      <th>FLUX.17</th>\n",
       "      <th>FLUX.18</th>\n",
       "      <th>FLUX.19</th>\n",
       "      <th>FLUX.20</th>\n",
       "      <th>FLUX.21</th>\n",
       "      <th>FLUX.22</th>\n",
       "      <th>FLUX.23</th>\n",
       "      <th>FLUX.24</th>\n",
       "      <th>FLUX.25</th>\n",
       "      <th>FLUX.26</th>\n",
       "      <th>FLUX.27</th>\n",
       "      <th>FLUX.28</th>\n",
       "      <th>FLUX.29</th>\n",
       "      <th>FLUX.30</th>\n",
       "      <th>FLUX.31</th>\n",
       "      <th>FLUX.32</th>\n",
       "      <th>FLUX.33</th>\n",
       "      <th>FLUX.34</th>\n",
       "      <th>FLUX.35</th>\n",
       "      <th>FLUX.36</th>\n",
       "      <th>FLUX.37</th>\n",
       "      <th>FLUX.38</th>\n",
       "      <th>FLUX.39</th>\n",
       "      <th>...</th>\n",
       "      <th>FLUX.3158</th>\n",
       "      <th>FLUX.3159</th>\n",
       "      <th>FLUX.3160</th>\n",
       "      <th>FLUX.3161</th>\n",
       "      <th>FLUX.3162</th>\n",
       "      <th>FLUX.3163</th>\n",
       "      <th>FLUX.3164</th>\n",
       "      <th>FLUX.3165</th>\n",
       "      <th>FLUX.3166</th>\n",
       "      <th>FLUX.3167</th>\n",
       "      <th>FLUX.3168</th>\n",
       "      <th>FLUX.3169</th>\n",
       "      <th>FLUX.3170</th>\n",
       "      <th>FLUX.3171</th>\n",
       "      <th>FLUX.3172</th>\n",
       "      <th>FLUX.3173</th>\n",
       "      <th>FLUX.3174</th>\n",
       "      <th>FLUX.3175</th>\n",
       "      <th>FLUX.3176</th>\n",
       "      <th>FLUX.3177</th>\n",
       "      <th>FLUX.3178</th>\n",
       "      <th>FLUX.3179</th>\n",
       "      <th>FLUX.3180</th>\n",
       "      <th>FLUX.3181</th>\n",
       "      <th>FLUX.3182</th>\n",
       "      <th>FLUX.3183</th>\n",
       "      <th>FLUX.3184</th>\n",
       "      <th>FLUX.3185</th>\n",
       "      <th>FLUX.3186</th>\n",
       "      <th>FLUX.3187</th>\n",
       "      <th>FLUX.3188</th>\n",
       "      <th>FLUX.3189</th>\n",
       "      <th>FLUX.3190</th>\n",
       "      <th>FLUX.3191</th>\n",
       "      <th>FLUX.3192</th>\n",
       "      <th>FLUX.3193</th>\n",
       "      <th>FLUX.3194</th>\n",
       "      <th>FLUX.3195</th>\n",
       "      <th>FLUX.3196</th>\n",
       "      <th>FLUX.3197</th>\n",
       "    </tr>\n",
       "  </thead>\n",
       "  <tbody>\n",
       "    <tr>\n",
       "      <td>0</td>\n",
       "      <td>2</td>\n",
       "      <td>93.85</td>\n",
       "      <td>83.81</td>\n",
       "      <td>20.10</td>\n",
       "      <td>-26.98</td>\n",
       "      <td>-39.56</td>\n",
       "      <td>-124.71</td>\n",
       "      <td>-135.18</td>\n",
       "      <td>-96.27</td>\n",
       "      <td>-79.89</td>\n",
       "      <td>-160.17</td>\n",
       "      <td>-207.47</td>\n",
       "      <td>-154.88</td>\n",
       "      <td>-173.71</td>\n",
       "      <td>-146.56</td>\n",
       "      <td>-120.26</td>\n",
       "      <td>-102.85</td>\n",
       "      <td>-98.71</td>\n",
       "      <td>-48.42</td>\n",
       "      <td>-86.57</td>\n",
       "      <td>-0.84</td>\n",
       "      <td>-25.85</td>\n",
       "      <td>-67.39</td>\n",
       "      <td>-36.55</td>\n",
       "      <td>-87.01</td>\n",
       "      <td>-97.72</td>\n",
       "      <td>-131.59</td>\n",
       "      <td>-134.80</td>\n",
       "      <td>-186.97</td>\n",
       "      <td>-244.32</td>\n",
       "      <td>-225.76</td>\n",
       "      <td>-229.60</td>\n",
       "      <td>-253.48</td>\n",
       "      <td>-145.74</td>\n",
       "      <td>-145.74</td>\n",
       "      <td>30.47</td>\n",
       "      <td>-173.39</td>\n",
       "      <td>-187.56</td>\n",
       "      <td>-192.88</td>\n",
       "      <td>-182.76</td>\n",
       "      <td>...</td>\n",
       "      <td>-167.69</td>\n",
       "      <td>-56.86</td>\n",
       "      <td>7.56</td>\n",
       "      <td>37.40</td>\n",
       "      <td>-81.13</td>\n",
       "      <td>-20.10</td>\n",
       "      <td>-30.34</td>\n",
       "      <td>-320.48</td>\n",
       "      <td>-320.48</td>\n",
       "      <td>-287.72</td>\n",
       "      <td>-351.25</td>\n",
       "      <td>-70.07</td>\n",
       "      <td>-194.34</td>\n",
       "      <td>-106.47</td>\n",
       "      <td>-14.80</td>\n",
       "      <td>63.13</td>\n",
       "      <td>130.03</td>\n",
       "      <td>76.43</td>\n",
       "      <td>131.90</td>\n",
       "      <td>-193.16</td>\n",
       "      <td>-193.16</td>\n",
       "      <td>-89.26</td>\n",
       "      <td>-17.56</td>\n",
       "      <td>-17.31</td>\n",
       "      <td>125.62</td>\n",
       "      <td>68.87</td>\n",
       "      <td>100.01</td>\n",
       "      <td>-9.60</td>\n",
       "      <td>-25.39</td>\n",
       "      <td>-16.51</td>\n",
       "      <td>-78.07</td>\n",
       "      <td>-102.15</td>\n",
       "      <td>-102.15</td>\n",
       "      <td>25.13</td>\n",
       "      <td>48.57</td>\n",
       "      <td>92.54</td>\n",
       "      <td>39.32</td>\n",
       "      <td>61.42</td>\n",
       "      <td>5.08</td>\n",
       "      <td>-39.54</td>\n",
       "    </tr>\n",
       "    <tr>\n",
       "      <td>1</td>\n",
       "      <td>2</td>\n",
       "      <td>-38.88</td>\n",
       "      <td>-33.83</td>\n",
       "      <td>-58.54</td>\n",
       "      <td>-40.09</td>\n",
       "      <td>-79.31</td>\n",
       "      <td>-72.81</td>\n",
       "      <td>-86.55</td>\n",
       "      <td>-85.33</td>\n",
       "      <td>-83.97</td>\n",
       "      <td>-73.38</td>\n",
       "      <td>-86.51</td>\n",
       "      <td>-74.97</td>\n",
       "      <td>-73.15</td>\n",
       "      <td>-86.13</td>\n",
       "      <td>-76.57</td>\n",
       "      <td>-61.27</td>\n",
       "      <td>-37.23</td>\n",
       "      <td>-48.53</td>\n",
       "      <td>-30.96</td>\n",
       "      <td>-8.14</td>\n",
       "      <td>-5.54</td>\n",
       "      <td>15.79</td>\n",
       "      <td>45.71</td>\n",
       "      <td>10.61</td>\n",
       "      <td>40.66</td>\n",
       "      <td>16.70</td>\n",
       "      <td>15.18</td>\n",
       "      <td>11.98</td>\n",
       "      <td>-203.70</td>\n",
       "      <td>19.13</td>\n",
       "      <td>19.13</td>\n",
       "      <td>19.13</td>\n",
       "      <td>19.13</td>\n",
       "      <td>19.13</td>\n",
       "      <td>17.02</td>\n",
       "      <td>-8.50</td>\n",
       "      <td>-13.87</td>\n",
       "      <td>-29.10</td>\n",
       "      <td>-34.29</td>\n",
       "      <td>...</td>\n",
       "      <td>-36.75</td>\n",
       "      <td>-15.49</td>\n",
       "      <td>-13.24</td>\n",
       "      <td>20.46</td>\n",
       "      <td>-1.47</td>\n",
       "      <td>-0.40</td>\n",
       "      <td>27.80</td>\n",
       "      <td>-58.20</td>\n",
       "      <td>-58.20</td>\n",
       "      <td>-72.04</td>\n",
       "      <td>-58.01</td>\n",
       "      <td>-30.92</td>\n",
       "      <td>-13.42</td>\n",
       "      <td>-13.98</td>\n",
       "      <td>-5.43</td>\n",
       "      <td>8.71</td>\n",
       "      <td>1.80</td>\n",
       "      <td>36.59</td>\n",
       "      <td>-9.80</td>\n",
       "      <td>-19.53</td>\n",
       "      <td>-19.53</td>\n",
       "      <td>-24.32</td>\n",
       "      <td>-23.88</td>\n",
       "      <td>-33.07</td>\n",
       "      <td>-9.03</td>\n",
       "      <td>3.75</td>\n",
       "      <td>11.61</td>\n",
       "      <td>-12.66</td>\n",
       "      <td>-5.69</td>\n",
       "      <td>12.53</td>\n",
       "      <td>-3.28</td>\n",
       "      <td>-32.21</td>\n",
       "      <td>-32.21</td>\n",
       "      <td>-24.89</td>\n",
       "      <td>-4.86</td>\n",
       "      <td>0.76</td>\n",
       "      <td>-11.70</td>\n",
       "      <td>6.46</td>\n",
       "      <td>16.00</td>\n",
       "      <td>19.93</td>\n",
       "    </tr>\n",
       "    <tr>\n",
       "      <td>2</td>\n",
       "      <td>2</td>\n",
       "      <td>532.64</td>\n",
       "      <td>535.92</td>\n",
       "      <td>513.73</td>\n",
       "      <td>496.92</td>\n",
       "      <td>456.45</td>\n",
       "      <td>466.00</td>\n",
       "      <td>464.50</td>\n",
       "      <td>486.39</td>\n",
       "      <td>436.56</td>\n",
       "      <td>484.39</td>\n",
       "      <td>469.66</td>\n",
       "      <td>462.30</td>\n",
       "      <td>492.23</td>\n",
       "      <td>441.20</td>\n",
       "      <td>483.17</td>\n",
       "      <td>481.28</td>\n",
       "      <td>535.31</td>\n",
       "      <td>554.34</td>\n",
       "      <td>562.80</td>\n",
       "      <td>540.14</td>\n",
       "      <td>576.34</td>\n",
       "      <td>551.67</td>\n",
       "      <td>556.69</td>\n",
       "      <td>550.86</td>\n",
       "      <td>577.33</td>\n",
       "      <td>562.08</td>\n",
       "      <td>577.97</td>\n",
       "      <td>530.67</td>\n",
       "      <td>553.27</td>\n",
       "      <td>538.33</td>\n",
       "      <td>527.17</td>\n",
       "      <td>532.50</td>\n",
       "      <td>273.66</td>\n",
       "      <td>273.66</td>\n",
       "      <td>292.39</td>\n",
       "      <td>298.44</td>\n",
       "      <td>252.64</td>\n",
       "      <td>233.58</td>\n",
       "      <td>171.41</td>\n",
       "      <td>...</td>\n",
       "      <td>-51.09</td>\n",
       "      <td>-33.30</td>\n",
       "      <td>-61.53</td>\n",
       "      <td>-89.61</td>\n",
       "      <td>-69.17</td>\n",
       "      <td>-86.47</td>\n",
       "      <td>-140.91</td>\n",
       "      <td>-84.20</td>\n",
       "      <td>-84.20</td>\n",
       "      <td>-89.09</td>\n",
       "      <td>-55.44</td>\n",
       "      <td>-61.05</td>\n",
       "      <td>-29.17</td>\n",
       "      <td>-63.80</td>\n",
       "      <td>-57.61</td>\n",
       "      <td>2.70</td>\n",
       "      <td>-31.25</td>\n",
       "      <td>-47.09</td>\n",
       "      <td>-6.53</td>\n",
       "      <td>14.00</td>\n",
       "      <td>14.00</td>\n",
       "      <td>-25.05</td>\n",
       "      <td>-34.98</td>\n",
       "      <td>-32.08</td>\n",
       "      <td>-17.06</td>\n",
       "      <td>-27.77</td>\n",
       "      <td>7.86</td>\n",
       "      <td>-70.77</td>\n",
       "      <td>-64.44</td>\n",
       "      <td>-83.83</td>\n",
       "      <td>-71.69</td>\n",
       "      <td>13.31</td>\n",
       "      <td>13.31</td>\n",
       "      <td>-29.89</td>\n",
       "      <td>-20.88</td>\n",
       "      <td>5.06</td>\n",
       "      <td>-11.80</td>\n",
       "      <td>-28.91</td>\n",
       "      <td>-70.02</td>\n",
       "      <td>-96.67</td>\n",
       "    </tr>\n",
       "    <tr>\n",
       "      <td>3</td>\n",
       "      <td>2</td>\n",
       "      <td>326.52</td>\n",
       "      <td>347.39</td>\n",
       "      <td>302.35</td>\n",
       "      <td>298.13</td>\n",
       "      <td>317.74</td>\n",
       "      <td>312.70</td>\n",
       "      <td>322.33</td>\n",
       "      <td>311.31</td>\n",
       "      <td>312.42</td>\n",
       "      <td>323.33</td>\n",
       "      <td>311.14</td>\n",
       "      <td>326.19</td>\n",
       "      <td>313.11</td>\n",
       "      <td>313.89</td>\n",
       "      <td>317.96</td>\n",
       "      <td>330.92</td>\n",
       "      <td>341.10</td>\n",
       "      <td>360.58</td>\n",
       "      <td>370.29</td>\n",
       "      <td>369.71</td>\n",
       "      <td>339.00</td>\n",
       "      <td>336.24</td>\n",
       "      <td>319.31</td>\n",
       "      <td>321.56</td>\n",
       "      <td>308.02</td>\n",
       "      <td>296.82</td>\n",
       "      <td>279.34</td>\n",
       "      <td>275.78</td>\n",
       "      <td>289.67</td>\n",
       "      <td>281.33</td>\n",
       "      <td>285.37</td>\n",
       "      <td>281.87</td>\n",
       "      <td>88.75</td>\n",
       "      <td>88.75</td>\n",
       "      <td>67.71</td>\n",
       "      <td>74.46</td>\n",
       "      <td>69.34</td>\n",
       "      <td>76.51</td>\n",
       "      <td>80.26</td>\n",
       "      <td>...</td>\n",
       "      <td>-2.75</td>\n",
       "      <td>14.29</td>\n",
       "      <td>-14.18</td>\n",
       "      <td>-25.14</td>\n",
       "      <td>-13.43</td>\n",
       "      <td>-14.74</td>\n",
       "      <td>2.24</td>\n",
       "      <td>-31.07</td>\n",
       "      <td>-31.07</td>\n",
       "      <td>-50.27</td>\n",
       "      <td>-39.22</td>\n",
       "      <td>-51.33</td>\n",
       "      <td>-18.53</td>\n",
       "      <td>-1.99</td>\n",
       "      <td>10.43</td>\n",
       "      <td>-1.97</td>\n",
       "      <td>-15.32</td>\n",
       "      <td>-23.38</td>\n",
       "      <td>-27.71</td>\n",
       "      <td>-36.12</td>\n",
       "      <td>-36.12</td>\n",
       "      <td>-15.65</td>\n",
       "      <td>6.63</td>\n",
       "      <td>10.66</td>\n",
       "      <td>-8.57</td>\n",
       "      <td>-8.29</td>\n",
       "      <td>-21.90</td>\n",
       "      <td>-25.80</td>\n",
       "      <td>-29.86</td>\n",
       "      <td>7.42</td>\n",
       "      <td>5.71</td>\n",
       "      <td>-3.73</td>\n",
       "      <td>-3.73</td>\n",
       "      <td>30.05</td>\n",
       "      <td>20.03</td>\n",
       "      <td>-12.67</td>\n",
       "      <td>-8.77</td>\n",
       "      <td>-17.31</td>\n",
       "      <td>-17.35</td>\n",
       "      <td>13.98</td>\n",
       "    </tr>\n",
       "    <tr>\n",
       "      <td>4</td>\n",
       "      <td>2</td>\n",
       "      <td>-1107.21</td>\n",
       "      <td>-1112.59</td>\n",
       "      <td>-1118.95</td>\n",
       "      <td>-1095.10</td>\n",
       "      <td>-1057.55</td>\n",
       "      <td>-1034.48</td>\n",
       "      <td>-998.34</td>\n",
       "      <td>-1022.71</td>\n",
       "      <td>-989.57</td>\n",
       "      <td>-970.88</td>\n",
       "      <td>-933.30</td>\n",
       "      <td>-889.49</td>\n",
       "      <td>-888.66</td>\n",
       "      <td>-853.95</td>\n",
       "      <td>-800.91</td>\n",
       "      <td>-754.48</td>\n",
       "      <td>-717.24</td>\n",
       "      <td>-649.34</td>\n",
       "      <td>-605.71</td>\n",
       "      <td>-575.62</td>\n",
       "      <td>-526.37</td>\n",
       "      <td>-490.12</td>\n",
       "      <td>-458.73</td>\n",
       "      <td>-447.76</td>\n",
       "      <td>-419.54</td>\n",
       "      <td>-410.76</td>\n",
       "      <td>-404.10</td>\n",
       "      <td>-425.38</td>\n",
       "      <td>-397.29</td>\n",
       "      <td>-412.73</td>\n",
       "      <td>-446.49</td>\n",
       "      <td>-413.46</td>\n",
       "      <td>-1006.21</td>\n",
       "      <td>-1006.21</td>\n",
       "      <td>-973.29</td>\n",
       "      <td>-986.01</td>\n",
       "      <td>-975.88</td>\n",
       "      <td>-982.20</td>\n",
       "      <td>-953.73</td>\n",
       "      <td>...</td>\n",
       "      <td>-694.76</td>\n",
       "      <td>-705.01</td>\n",
       "      <td>-625.24</td>\n",
       "      <td>-604.16</td>\n",
       "      <td>-668.26</td>\n",
       "      <td>-742.18</td>\n",
       "      <td>-820.55</td>\n",
       "      <td>-874.76</td>\n",
       "      <td>-874.76</td>\n",
       "      <td>-853.68</td>\n",
       "      <td>-808.62</td>\n",
       "      <td>-777.88</td>\n",
       "      <td>-712.62</td>\n",
       "      <td>-694.01</td>\n",
       "      <td>-655.74</td>\n",
       "      <td>-599.74</td>\n",
       "      <td>-617.30</td>\n",
       "      <td>-602.98</td>\n",
       "      <td>-539.29</td>\n",
       "      <td>-672.71</td>\n",
       "      <td>-672.71</td>\n",
       "      <td>-594.49</td>\n",
       "      <td>-597.60</td>\n",
       "      <td>-560.77</td>\n",
       "      <td>-501.95</td>\n",
       "      <td>-461.62</td>\n",
       "      <td>-468.59</td>\n",
       "      <td>-513.24</td>\n",
       "      <td>-504.70</td>\n",
       "      <td>-521.95</td>\n",
       "      <td>-594.37</td>\n",
       "      <td>-401.66</td>\n",
       "      <td>-401.66</td>\n",
       "      <td>-357.24</td>\n",
       "      <td>-443.76</td>\n",
       "      <td>-438.54</td>\n",
       "      <td>-399.71</td>\n",
       "      <td>-384.65</td>\n",
       "      <td>-411.79</td>\n",
       "      <td>-510.54</td>\n",
       "    </tr>\n",
       "  </tbody>\n",
       "</table>\n",
       "<p>5 rows × 3198 columns</p>\n",
       "</div>"
      ],
      "text/plain": [
       "   LABEL   FLUX.1   FLUX.2   FLUX.3  ...  FLUX.3194  FLUX.3195  FLUX.3196  FLUX.3197\n",
       "0      2    93.85    83.81    20.10  ...      39.32      61.42       5.08     -39.54\n",
       "1      2   -38.88   -33.83   -58.54  ...     -11.70       6.46      16.00      19.93\n",
       "2      2   532.64   535.92   513.73  ...     -11.80     -28.91     -70.02     -96.67\n",
       "3      2   326.52   347.39   302.35  ...      -8.77     -17.31     -17.35      13.98\n",
       "4      2 -1107.21 -1112.59 -1118.95  ...    -399.71    -384.65    -411.79    -510.54\n",
       "\n",
       "[5 rows x 3198 columns]"
      ]
     },
     "metadata": {},
     "output_type": "display_data"
    },
    {
     "data": {
      "text/html": [
       "<div>\n",
       "<style scoped>\n",
       "    .dataframe tbody tr th:only-of-type {\n",
       "        vertical-align: middle;\n",
       "    }\n",
       "\n",
       "    .dataframe tbody tr th {\n",
       "        vertical-align: top;\n",
       "    }\n",
       "\n",
       "    .dataframe thead th {\n",
       "        text-align: right;\n",
       "    }\n",
       "</style>\n",
       "<table border=\"1\" class=\"dataframe\">\n",
       "  <thead>\n",
       "    <tr style=\"text-align: right;\">\n",
       "      <th></th>\n",
       "      <th>LABEL</th>\n",
       "      <th>FLUX.1</th>\n",
       "      <th>FLUX.2</th>\n",
       "      <th>FLUX.3</th>\n",
       "      <th>FLUX.4</th>\n",
       "      <th>FLUX.5</th>\n",
       "      <th>FLUX.6</th>\n",
       "      <th>FLUX.7</th>\n",
       "      <th>FLUX.8</th>\n",
       "      <th>FLUX.9</th>\n",
       "      <th>FLUX.10</th>\n",
       "      <th>FLUX.11</th>\n",
       "      <th>FLUX.12</th>\n",
       "      <th>FLUX.13</th>\n",
       "      <th>FLUX.14</th>\n",
       "      <th>FLUX.15</th>\n",
       "      <th>FLUX.16</th>\n",
       "      <th>FLUX.17</th>\n",
       "      <th>FLUX.18</th>\n",
       "      <th>FLUX.19</th>\n",
       "      <th>FLUX.20</th>\n",
       "      <th>FLUX.21</th>\n",
       "      <th>FLUX.22</th>\n",
       "      <th>FLUX.23</th>\n",
       "      <th>FLUX.24</th>\n",
       "      <th>FLUX.25</th>\n",
       "      <th>FLUX.26</th>\n",
       "      <th>FLUX.27</th>\n",
       "      <th>FLUX.28</th>\n",
       "      <th>FLUX.29</th>\n",
       "      <th>FLUX.30</th>\n",
       "      <th>FLUX.31</th>\n",
       "      <th>FLUX.32</th>\n",
       "      <th>FLUX.33</th>\n",
       "      <th>FLUX.34</th>\n",
       "      <th>FLUX.35</th>\n",
       "      <th>FLUX.36</th>\n",
       "      <th>FLUX.37</th>\n",
       "      <th>FLUX.38</th>\n",
       "      <th>FLUX.39</th>\n",
       "      <th>...</th>\n",
       "      <th>FLUX.3158</th>\n",
       "      <th>FLUX.3159</th>\n",
       "      <th>FLUX.3160</th>\n",
       "      <th>FLUX.3161</th>\n",
       "      <th>FLUX.3162</th>\n",
       "      <th>FLUX.3163</th>\n",
       "      <th>FLUX.3164</th>\n",
       "      <th>FLUX.3165</th>\n",
       "      <th>FLUX.3166</th>\n",
       "      <th>FLUX.3167</th>\n",
       "      <th>FLUX.3168</th>\n",
       "      <th>FLUX.3169</th>\n",
       "      <th>FLUX.3170</th>\n",
       "      <th>FLUX.3171</th>\n",
       "      <th>FLUX.3172</th>\n",
       "      <th>FLUX.3173</th>\n",
       "      <th>FLUX.3174</th>\n",
       "      <th>FLUX.3175</th>\n",
       "      <th>FLUX.3176</th>\n",
       "      <th>FLUX.3177</th>\n",
       "      <th>FLUX.3178</th>\n",
       "      <th>FLUX.3179</th>\n",
       "      <th>FLUX.3180</th>\n",
       "      <th>FLUX.3181</th>\n",
       "      <th>FLUX.3182</th>\n",
       "      <th>FLUX.3183</th>\n",
       "      <th>FLUX.3184</th>\n",
       "      <th>FLUX.3185</th>\n",
       "      <th>FLUX.3186</th>\n",
       "      <th>FLUX.3187</th>\n",
       "      <th>FLUX.3188</th>\n",
       "      <th>FLUX.3189</th>\n",
       "      <th>FLUX.3190</th>\n",
       "      <th>FLUX.3191</th>\n",
       "      <th>FLUX.3192</th>\n",
       "      <th>FLUX.3193</th>\n",
       "      <th>FLUX.3194</th>\n",
       "      <th>FLUX.3195</th>\n",
       "      <th>FLUX.3196</th>\n",
       "      <th>FLUX.3197</th>\n",
       "    </tr>\n",
       "  </thead>\n",
       "  <tbody>\n",
       "    <tr>\n",
       "      <td>0</td>\n",
       "      <td>2</td>\n",
       "      <td>119.88</td>\n",
       "      <td>100.21</td>\n",
       "      <td>86.46</td>\n",
       "      <td>48.68</td>\n",
       "      <td>46.12</td>\n",
       "      <td>39.39</td>\n",
       "      <td>18.57</td>\n",
       "      <td>6.98</td>\n",
       "      <td>6.63</td>\n",
       "      <td>-21.97</td>\n",
       "      <td>-23.17</td>\n",
       "      <td>-29.26</td>\n",
       "      <td>-33.99</td>\n",
       "      <td>-6.25</td>\n",
       "      <td>-28.12</td>\n",
       "      <td>-27.24</td>\n",
       "      <td>-32.28</td>\n",
       "      <td>-12.29</td>\n",
       "      <td>-16.57</td>\n",
       "      <td>-23.86</td>\n",
       "      <td>-5.69</td>\n",
       "      <td>9.24</td>\n",
       "      <td>35.52</td>\n",
       "      <td>81.20</td>\n",
       "      <td>116.49</td>\n",
       "      <td>133.99</td>\n",
       "      <td>148.97</td>\n",
       "      <td>174.15</td>\n",
       "      <td>187.77</td>\n",
       "      <td>215.30</td>\n",
       "      <td>246.80</td>\n",
       "      <td>-56.68</td>\n",
       "      <td>-56.68</td>\n",
       "      <td>-56.68</td>\n",
       "      <td>-52.05</td>\n",
       "      <td>-31.52</td>\n",
       "      <td>-31.15</td>\n",
       "      <td>-48.53</td>\n",
       "      <td>-38.93</td>\n",
       "      <td>...</td>\n",
       "      <td>-2.55</td>\n",
       "      <td>12.26</td>\n",
       "      <td>-7.06</td>\n",
       "      <td>-23.53</td>\n",
       "      <td>2.54</td>\n",
       "      <td>30.21</td>\n",
       "      <td>38.87</td>\n",
       "      <td>-22.86</td>\n",
       "      <td>-22.86</td>\n",
       "      <td>-4.37</td>\n",
       "      <td>2.27</td>\n",
       "      <td>-16.27</td>\n",
       "      <td>-30.84</td>\n",
       "      <td>-7.21</td>\n",
       "      <td>-4.27</td>\n",
       "      <td>13.60</td>\n",
       "      <td>15.62</td>\n",
       "      <td>31.96</td>\n",
       "      <td>49.89</td>\n",
       "      <td>86.93</td>\n",
       "      <td>86.93</td>\n",
       "      <td>42.99</td>\n",
       "      <td>48.76</td>\n",
       "      <td>22.82</td>\n",
       "      <td>32.79</td>\n",
       "      <td>30.76</td>\n",
       "      <td>14.55</td>\n",
       "      <td>10.92</td>\n",
       "      <td>22.68</td>\n",
       "      <td>5.91</td>\n",
       "      <td>14.52</td>\n",
       "      <td>19.29</td>\n",
       "      <td>14.44</td>\n",
       "      <td>-1.62</td>\n",
       "      <td>13.33</td>\n",
       "      <td>45.50</td>\n",
       "      <td>31.93</td>\n",
       "      <td>35.78</td>\n",
       "      <td>269.43</td>\n",
       "      <td>57.72</td>\n",
       "    </tr>\n",
       "    <tr>\n",
       "      <td>1</td>\n",
       "      <td>2</td>\n",
       "      <td>5736.59</td>\n",
       "      <td>5699.98</td>\n",
       "      <td>5717.16</td>\n",
       "      <td>5692.73</td>\n",
       "      <td>5663.83</td>\n",
       "      <td>5631.16</td>\n",
       "      <td>5626.39</td>\n",
       "      <td>5569.47</td>\n",
       "      <td>5550.44</td>\n",
       "      <td>5458.80</td>\n",
       "      <td>5329.39</td>\n",
       "      <td>5191.38</td>\n",
       "      <td>5031.39</td>\n",
       "      <td>4769.89</td>\n",
       "      <td>4419.66</td>\n",
       "      <td>4218.92</td>\n",
       "      <td>3924.73</td>\n",
       "      <td>3605.30</td>\n",
       "      <td>3326.55</td>\n",
       "      <td>3021.20</td>\n",
       "      <td>2800.61</td>\n",
       "      <td>2474.48</td>\n",
       "      <td>2258.33</td>\n",
       "      <td>1951.69</td>\n",
       "      <td>1749.86</td>\n",
       "      <td>1585.38</td>\n",
       "      <td>1575.48</td>\n",
       "      <td>1568.41</td>\n",
       "      <td>1661.08</td>\n",
       "      <td>1977.33</td>\n",
       "      <td>2425.62</td>\n",
       "      <td>2889.61</td>\n",
       "      <td>3847.64</td>\n",
       "      <td>3847.64</td>\n",
       "      <td>3741.20</td>\n",
       "      <td>3453.47</td>\n",
       "      <td>3202.61</td>\n",
       "      <td>2923.73</td>\n",
       "      <td>2694.84</td>\n",
       "      <td>...</td>\n",
       "      <td>-3470.75</td>\n",
       "      <td>-4510.72</td>\n",
       "      <td>-5013.41</td>\n",
       "      <td>-3636.05</td>\n",
       "      <td>-2324.27</td>\n",
       "      <td>-2688.55</td>\n",
       "      <td>-2813.66</td>\n",
       "      <td>-586.22</td>\n",
       "      <td>-586.22</td>\n",
       "      <td>-756.80</td>\n",
       "      <td>-1090.23</td>\n",
       "      <td>-1388.61</td>\n",
       "      <td>-1745.36</td>\n",
       "      <td>-2015.28</td>\n",
       "      <td>-2359.06</td>\n",
       "      <td>-2516.66</td>\n",
       "      <td>-2699.31</td>\n",
       "      <td>-2777.55</td>\n",
       "      <td>-2732.97</td>\n",
       "      <td>1167.39</td>\n",
       "      <td>1167.39</td>\n",
       "      <td>1368.89</td>\n",
       "      <td>1434.80</td>\n",
       "      <td>1360.75</td>\n",
       "      <td>1148.44</td>\n",
       "      <td>1117.67</td>\n",
       "      <td>714.86</td>\n",
       "      <td>419.02</td>\n",
       "      <td>57.06</td>\n",
       "      <td>-175.66</td>\n",
       "      <td>-581.91</td>\n",
       "      <td>-984.09</td>\n",
       "      <td>-1230.89</td>\n",
       "      <td>-1600.45</td>\n",
       "      <td>-1824.53</td>\n",
       "      <td>-2061.17</td>\n",
       "      <td>-2265.98</td>\n",
       "      <td>-2366.19</td>\n",
       "      <td>-2294.86</td>\n",
       "      <td>-2034.72</td>\n",
       "    </tr>\n",
       "    <tr>\n",
       "      <td>2</td>\n",
       "      <td>2</td>\n",
       "      <td>844.48</td>\n",
       "      <td>817.49</td>\n",
       "      <td>770.07</td>\n",
       "      <td>675.01</td>\n",
       "      <td>605.52</td>\n",
       "      <td>499.45</td>\n",
       "      <td>440.77</td>\n",
       "      <td>362.95</td>\n",
       "      <td>207.27</td>\n",
       "      <td>150.46</td>\n",
       "      <td>85.49</td>\n",
       "      <td>-20.12</td>\n",
       "      <td>-35.88</td>\n",
       "      <td>-65.59</td>\n",
       "      <td>-15.12</td>\n",
       "      <td>16.60</td>\n",
       "      <td>-25.70</td>\n",
       "      <td>61.88</td>\n",
       "      <td>53.18</td>\n",
       "      <td>64.32</td>\n",
       "      <td>72.38</td>\n",
       "      <td>100.35</td>\n",
       "      <td>67.26</td>\n",
       "      <td>14.71</td>\n",
       "      <td>-16.41</td>\n",
       "      <td>-147.46</td>\n",
       "      <td>-231.27</td>\n",
       "      <td>-320.29</td>\n",
       "      <td>-407.82</td>\n",
       "      <td>-450.48</td>\n",
       "      <td>-146.99</td>\n",
       "      <td>-146.99</td>\n",
       "      <td>-146.99</td>\n",
       "      <td>-146.99</td>\n",
       "      <td>-166.30</td>\n",
       "      <td>-139.90</td>\n",
       "      <td>-96.41</td>\n",
       "      <td>-23.49</td>\n",
       "      <td>13.59</td>\n",
       "      <td>...</td>\n",
       "      <td>-35.24</td>\n",
       "      <td>-70.13</td>\n",
       "      <td>-35.30</td>\n",
       "      <td>-56.48</td>\n",
       "      <td>-74.60</td>\n",
       "      <td>-115.18</td>\n",
       "      <td>-8.91</td>\n",
       "      <td>-37.59</td>\n",
       "      <td>-37.59</td>\n",
       "      <td>-37.43</td>\n",
       "      <td>-104.23</td>\n",
       "      <td>-101.45</td>\n",
       "      <td>-107.35</td>\n",
       "      <td>-109.82</td>\n",
       "      <td>-126.27</td>\n",
       "      <td>-170.32</td>\n",
       "      <td>-117.85</td>\n",
       "      <td>-32.30</td>\n",
       "      <td>-70.18</td>\n",
       "      <td>314.29</td>\n",
       "      <td>314.29</td>\n",
       "      <td>314.29</td>\n",
       "      <td>149.71</td>\n",
       "      <td>54.60</td>\n",
       "      <td>12.60</td>\n",
       "      <td>-133.68</td>\n",
       "      <td>-78.16</td>\n",
       "      <td>-52.30</td>\n",
       "      <td>-8.55</td>\n",
       "      <td>-19.73</td>\n",
       "      <td>17.82</td>\n",
       "      <td>-51.66</td>\n",
       "      <td>-48.29</td>\n",
       "      <td>-59.99</td>\n",
       "      <td>-82.10</td>\n",
       "      <td>-174.54</td>\n",
       "      <td>-95.23</td>\n",
       "      <td>-162.68</td>\n",
       "      <td>-36.79</td>\n",
       "      <td>30.63</td>\n",
       "    </tr>\n",
       "    <tr>\n",
       "      <td>3</td>\n",
       "      <td>2</td>\n",
       "      <td>-826.00</td>\n",
       "      <td>-827.31</td>\n",
       "      <td>-846.12</td>\n",
       "      <td>-836.03</td>\n",
       "      <td>-745.50</td>\n",
       "      <td>-784.69</td>\n",
       "      <td>-791.22</td>\n",
       "      <td>-746.50</td>\n",
       "      <td>-709.53</td>\n",
       "      <td>-679.56</td>\n",
       "      <td>-706.03</td>\n",
       "      <td>-720.56</td>\n",
       "      <td>-631.12</td>\n",
       "      <td>-659.16</td>\n",
       "      <td>-672.03</td>\n",
       "      <td>-665.06</td>\n",
       "      <td>-667.94</td>\n",
       "      <td>-660.84</td>\n",
       "      <td>-672.75</td>\n",
       "      <td>-644.91</td>\n",
       "      <td>-680.53</td>\n",
       "      <td>-620.50</td>\n",
       "      <td>-570.34</td>\n",
       "      <td>-530.00</td>\n",
       "      <td>-537.88</td>\n",
       "      <td>-578.38</td>\n",
       "      <td>-532.34</td>\n",
       "      <td>-532.38</td>\n",
       "      <td>-491.03</td>\n",
       "      <td>-485.03</td>\n",
       "      <td>-427.19</td>\n",
       "      <td>-380.84</td>\n",
       "      <td>-329.50</td>\n",
       "      <td>-286.91</td>\n",
       "      <td>-283.81</td>\n",
       "      <td>-298.19</td>\n",
       "      <td>-271.03</td>\n",
       "      <td>-268.50</td>\n",
       "      <td>-209.56</td>\n",
       "      <td>...</td>\n",
       "      <td>16.50</td>\n",
       "      <td>-1286.59</td>\n",
       "      <td>-1286.59</td>\n",
       "      <td>-1286.59</td>\n",
       "      <td>-1286.59</td>\n",
       "      <td>-1286.59</td>\n",
       "      <td>-1286.59</td>\n",
       "      <td>-1286.59</td>\n",
       "      <td>-1286.59</td>\n",
       "      <td>-14.94</td>\n",
       "      <td>64.09</td>\n",
       "      <td>8.38</td>\n",
       "      <td>45.31</td>\n",
       "      <td>100.72</td>\n",
       "      <td>91.53</td>\n",
       "      <td>46.69</td>\n",
       "      <td>20.34</td>\n",
       "      <td>30.94</td>\n",
       "      <td>-36.81</td>\n",
       "      <td>-33.28</td>\n",
       "      <td>-69.62</td>\n",
       "      <td>-208.00</td>\n",
       "      <td>-280.28</td>\n",
       "      <td>-340.41</td>\n",
       "      <td>-337.41</td>\n",
       "      <td>-268.03</td>\n",
       "      <td>-245.00</td>\n",
       "      <td>-230.62</td>\n",
       "      <td>-129.59</td>\n",
       "      <td>-35.47</td>\n",
       "      <td>122.34</td>\n",
       "      <td>93.03</td>\n",
       "      <td>93.03</td>\n",
       "      <td>68.81</td>\n",
       "      <td>9.81</td>\n",
       "      <td>20.75</td>\n",
       "      <td>20.25</td>\n",
       "      <td>-120.81</td>\n",
       "      <td>-257.56</td>\n",
       "      <td>-215.41</td>\n",
       "    </tr>\n",
       "    <tr>\n",
       "      <td>4</td>\n",
       "      <td>2</td>\n",
       "      <td>-39.57</td>\n",
       "      <td>-15.88</td>\n",
       "      <td>-9.16</td>\n",
       "      <td>-6.37</td>\n",
       "      <td>-16.13</td>\n",
       "      <td>-24.05</td>\n",
       "      <td>-0.90</td>\n",
       "      <td>-45.20</td>\n",
       "      <td>-5.04</td>\n",
       "      <td>14.62</td>\n",
       "      <td>-19.52</td>\n",
       "      <td>-11.43</td>\n",
       "      <td>-49.80</td>\n",
       "      <td>25.84</td>\n",
       "      <td>11.62</td>\n",
       "      <td>3.18</td>\n",
       "      <td>-9.59</td>\n",
       "      <td>14.49</td>\n",
       "      <td>8.82</td>\n",
       "      <td>32.32</td>\n",
       "      <td>-28.90</td>\n",
       "      <td>-28.90</td>\n",
       "      <td>-14.09</td>\n",
       "      <td>-30.87</td>\n",
       "      <td>-18.99</td>\n",
       "      <td>-38.60</td>\n",
       "      <td>-27.79</td>\n",
       "      <td>9.65</td>\n",
       "      <td>29.60</td>\n",
       "      <td>7.88</td>\n",
       "      <td>42.87</td>\n",
       "      <td>27.59</td>\n",
       "      <td>27.05</td>\n",
       "      <td>20.26</td>\n",
       "      <td>29.48</td>\n",
       "      <td>9.71</td>\n",
       "      <td>22.84</td>\n",
       "      <td>25.99</td>\n",
       "      <td>-667.55</td>\n",
       "      <td>...</td>\n",
       "      <td>-122.12</td>\n",
       "      <td>-32.01</td>\n",
       "      <td>-47.15</td>\n",
       "      <td>-56.45</td>\n",
       "      <td>-41.71</td>\n",
       "      <td>-34.13</td>\n",
       "      <td>-43.12</td>\n",
       "      <td>-53.63</td>\n",
       "      <td>-53.63</td>\n",
       "      <td>-53.63</td>\n",
       "      <td>-24.29</td>\n",
       "      <td>22.29</td>\n",
       "      <td>25.18</td>\n",
       "      <td>1.84</td>\n",
       "      <td>-22.29</td>\n",
       "      <td>-26.43</td>\n",
       "      <td>-12.12</td>\n",
       "      <td>-33.05</td>\n",
       "      <td>-21.66</td>\n",
       "      <td>-228.32</td>\n",
       "      <td>-228.32</td>\n",
       "      <td>-228.32</td>\n",
       "      <td>-187.35</td>\n",
       "      <td>-166.23</td>\n",
       "      <td>-115.54</td>\n",
       "      <td>-50.18</td>\n",
       "      <td>-37.96</td>\n",
       "      <td>-22.37</td>\n",
       "      <td>-4.74</td>\n",
       "      <td>-35.82</td>\n",
       "      <td>-37.87</td>\n",
       "      <td>-61.85</td>\n",
       "      <td>-27.15</td>\n",
       "      <td>-21.18</td>\n",
       "      <td>-33.76</td>\n",
       "      <td>-85.34</td>\n",
       "      <td>-81.46</td>\n",
       "      <td>-61.98</td>\n",
       "      <td>-69.34</td>\n",
       "      <td>-17.84</td>\n",
       "    </tr>\n",
       "  </tbody>\n",
       "</table>\n",
       "<p>5 rows × 3198 columns</p>\n",
       "</div>"
      ],
      "text/plain": [
       "   LABEL   FLUX.1   FLUX.2   FLUX.3  ...  FLUX.3194  FLUX.3195  FLUX.3196  FLUX.3197\n",
       "0      2   119.88   100.21    86.46  ...      31.93      35.78     269.43      57.72\n",
       "1      2  5736.59  5699.98  5717.16  ...   -2265.98   -2366.19   -2294.86   -2034.72\n",
       "2      2   844.48   817.49   770.07  ...     -95.23    -162.68     -36.79      30.63\n",
       "3      2  -826.00  -827.31  -846.12  ...      20.25    -120.81    -257.56    -215.41\n",
       "4      2   -39.57   -15.88    -9.16  ...     -81.46     -61.98     -69.34     -17.84\n",
       "\n",
       "[5 rows x 3198 columns]"
      ]
     },
     "metadata": {},
     "output_type": "display_data"
    }
   ],
   "source": [
    "# comparing train and test datasets\n",
    "display(train.head(), test.head())"
   ]
  },
  {
   "cell_type": "markdown",
   "metadata": {},
   "source": [
    "Our target column `LABEL` assigns each star with a 1 or a 2 to designate whether or not there is a confirmed exoplanet that was found in the star's orbit. This is precisely what we are trying to classify in our model below.\n",
    "\n",
    "Notice there are a total of only 42 stars that are labeled \"2\", ie confirmed exoplanet orbiting this star. \n",
    "There are 37 exoplanet host stars in the training set, and only 5 in the test set. Such highly imbalanced classes will be something we need to deal with carefully in our model."
   ]
  },
  {
   "cell_type": "code",
   "execution_count": 8,
   "metadata": {
    "ExecuteTime": {
     "end_time": "2020-04-14T20:54:49.501541Z",
     "start_time": "2020-04-14T20:54:49.492989Z"
    }
   },
   "outputs": [
    {
     "data": {
      "text/plain": [
       "1    5050\n",
       "2      37\n",
       "Name: LABEL, dtype: int64"
      ]
     },
     "metadata": {},
     "output_type": "display_data"
    },
    {
     "data": {
      "text/plain": [
       "1    565\n",
       "2      5\n",
       "Name: LABEL, dtype: int64"
      ]
     },
     "metadata": {},
     "output_type": "display_data"
    }
   ],
   "source": [
    "# Check the value counts \n",
    "display(train['LABEL'].value_counts(),test['LABEL'].value_counts())"
   ]
  },
  {
   "cell_type": "markdown",
   "metadata": {},
   "source": [
    "Much of the heavy lifting has already been applied to this data set, at least as far as there not being any missing data..."
   ]
  },
  {
   "cell_type": "code",
   "execution_count": 9,
   "metadata": {
    "ExecuteTime": {
     "end_time": "2020-04-14T20:54:49.582910Z",
     "start_time": "2020-04-14T20:54:49.503843Z"
    }
   },
   "outputs": [
    {
     "name": "stdout",
     "output_type": "stream",
     "text": [
      "Train Nulls: 0    3198\n",
      "dtype: int64\n",
      "Test Nulls: 0    3198\n",
      "dtype: int64\n"
     ]
    }
   ],
   "source": [
    "# check for nulls\n",
    "print('Train Nulls:',train.isna().sum().value_counts())\n",
    "print('Test Nulls:',test.isna().sum().value_counts())"
   ]
  },
  {
   "cell_type": "markdown",
   "metadata": {},
   "source": [
    "# Explore"
   ]
  },
  {
   "cell_type": "markdown",
   "metadata": {},
   "source": [
    "## Planet Host vs Non-Host Stars\n",
    "\n",
    "Since we are setting out to classify stars as being either a planet-host or non-host, it would be useful to compare the data visually and see if we can pick up on any significant differences in the flux values. The simplest way to do this is plot the signals of each type as a scatter plot and a line plot."
   ]
  },
  {
   "cell_type": "markdown",
   "metadata": {},
   "source": [
    "### Threshold Crossing Event (TCE)\n",
    "TCE is determined by a significant dip in the flux values, the assumption being something crossed in front of the star blocking its light and this could be an orbiting planet! "
   ]
  },
  {
   "cell_type": "code",
   "execution_count": 10,
   "metadata": {
    "ExecuteTime": {
     "end_time": "2020-04-14T20:54:49.596932Z",
     "start_time": "2020-04-14T20:54:49.584252Z"
    }
   },
   "outputs": [
    {
     "data": {
      "text/plain": [
       "LABEL      2.00\n",
       "FLUX.1    93.85\n",
       "FLUX.2    83.81\n",
       "FLUX.3    20.10\n",
       "FLUX.4   -26.98\n",
       "Name: 0, dtype: float64"
      ]
     },
     "metadata": {},
     "output_type": "display_data"
    },
    {
     "data": {
      "text/plain": [
       "LABEL       1.00\n",
       "FLUX.1    323.28\n",
       "FLUX.2    306.36\n",
       "FLUX.3    293.16\n",
       "FLUX.4    287.67\n",
       "Name: 5086, dtype: float64"
      ]
     },
     "metadata": {},
     "output_type": "display_data"
    }
   ],
   "source": [
    "# grab first row of observations to create pandas series \n",
    "# first row is label = 2 which is a confirmed exoplanet host star\n",
    "star_signal_alpha = train.iloc[0, :]\n",
    "# last row is label = 1 which shows no sign of a TCE (threshold crossing event)\n",
    "star_signal_beta = train.iloc[-1, :]\n",
    "\n",
    "display(star_signal_alpha.head(),star_signal_beta.head())"
   ]
  },
  {
   "cell_type": "code",
   "execution_count": 11,
   "metadata": {
    "ExecuteTime": {
     "end_time": "2020-04-14T20:54:49.610640Z",
     "start_time": "2020-04-14T20:54:49.598586Z"
    }
   },
   "outputs": [],
   "source": [
    "def star_signals(signal, label_col=None, classes=None, \n",
    "                 class_names=None, figsize=(15,5), y_units=None, x_units=None):\n",
    "    \"\"\"\n",
    "    Plots a scatter plot and line plot of time series signal values.  \n",
    "    \n",
    "    **ARGS\n",
    "    signal: pandas series or numpy array\n",
    "    label_col: name of the label column if using labeled pandas series\n",
    "        -use default None for numpy array or unlabeled series.\n",
    "        -this is simply for customizing plot Title to include classification    \n",
    "    classes: (optional- req labeled data) tuple if binary, array if multiclass\n",
    "    class_names: tuple or array of strings denoting what the classes mean\n",
    "    figsize: size of the figures (default = (15,5))\n",
    "    ******\n",
    "    \n",
    "    Ex1: Labeled timeseries passing 1st row of pandas dataframe\n",
    "    > first create the signal:\n",
    "    star_signal_alpha = train.iloc[0, :]\n",
    "    > then plot:\n",
    "    star_signals(star_signal_alpha, label_col='LABEL',classes=[1,2], \n",
    "                 class_names=['No Planet', 'Planet']), figsize=(15,5))\n",
    "    \n",
    "    \n",
    "    Ex2: numpy array without any labels\n",
    "    > first create the signal:\n",
    "    \n",
    "    >then plot:\n",
    "    star_signals(signal, figsize=(15,5))\n",
    "    \"\"\"\n",
    "    \n",
    "    # pass None to label_col if unlabeled data, creates generic title\n",
    "    if label_col is None:\n",
    "        label = None\n",
    "        title_scatter = \"Scatterplot of Star Flux Signals\"\n",
    "        title_line = \"Line Plot of Star Flux Signals\"\n",
    "        color='black'\n",
    "        \n",
    "    # store target column as variable \n",
    "    elif label_col is not None:\n",
    "        label = signal[label_col]\n",
    "        # for labeled timeseries\n",
    "        if label == 1:\n",
    "            cls = classes[0]\n",
    "            cn = class_names[0]\n",
    "            color='red'\n",
    "\n",
    "        elif label == 2:\n",
    "            cls = classes[1]\n",
    "            cn = class_names[1] \n",
    "            color='blue'\n",
    "    #create appropriate title acc to class_names    \n",
    "        title_scatter = f\"Scatterplot for Star Flux Signal: {cn}\"\n",
    "        title_line = f\"Line Plot for Star Flux Signal: {cn}\"\n",
    "    \n",
    "    # Set x and y axis labels according to units\n",
    "    # if the units are unknown, we will default to \"Flux\"\n",
    "    if y_units == None:\n",
    "        y_units = 'Flux'\n",
    "    else:\n",
    "        y_units = y_units\n",
    "    # it is assumed this is a timeseries, default to \"time\"   \n",
    "    if x_units == None:\n",
    "        x_units = 'Time'\n",
    "    else:\n",
    "        x_units = x_units\n",
    "    \n",
    "    # Scatter Plot \n",
    "    \n",
    "    plt.figure(figsize=figsize)\n",
    "    plt.scatter(pd.Series([i for i in range(1, len(signal))]), \n",
    "                signal[1:], marker=4, color=color, alpha=0.7)\n",
    "    plt.ylabel(y_units)\n",
    "    plt.xlabel(x_units)\n",
    "    plt.title(title_scatter)\n",
    "    plt.show();\n",
    "\n",
    "    # Line Plot\n",
    "    plt.figure(figsize=figsize)\n",
    "    plt.plot(pd.Series([i for i in range(1, len(signal))]), \n",
    "             signal[1:], color=color, alpha=0.7)\n",
    "    plt.ylabel(y_units)\n",
    "    plt.xlabel(x_units)\n",
    "    plt.title(title_line)\n",
    "    plt.show();"
   ]
  },
  {
   "cell_type": "markdown",
   "metadata": {},
   "source": [
    "# A Word on Units.."
   ]
  },
  {
   "cell_type": "markdown",
   "metadata": {},
   "source": [
    "After doing a little research (mostly by reading the K2 Handbook and visiting the MAST website where NASA houses all of its space telescope data) we learn that the flux values for campaign 3 that are in the Kaggle dataset have been put through a de-noising process. Prior to this particular de-noising process, the flux values would be called `SAP Flux` however in this case we are dealing with `PDC_SAP Flux`. At the moment the units may not seem to matter much, since we assume they are consist across all observations. However, as with anything relating to physics, and science for that matter, the units MATTER. All that to say, for now we are at least going to label the axes accurately so that later down the line if we want to compare this dataset to another from the archive, we will know the units! :)"
   ]
  },
  {
   "cell_type": "code",
   "execution_count": 12,
   "metadata": {
    "ExecuteTime": {
     "end_time": "2020-04-14T20:54:50.975621Z",
     "start_time": "2020-04-14T20:54:49.612358Z"
    },
    "scrolled": false
   },
   "outputs": [
    {
     "data": {
      "image/png": "[encoded data removed]",
      "text/plain": [
       "<Figure size 936x360 with 1 Axes>"
      ]
     },
     "metadata": {
      "needs_background": "light"
     },
     "output_type": "display_data"
    },
    {
     "data": {
      "image/png": "[encoded data removed]",
      "text/plain": [
       "<Figure size 936x360 with 1 Axes>"
      ]
     },
     "metadata": {
      "needs_background": "light"
     },
     "output_type": "display_data"
    },
    {
     "data": {
      "image/png": "[encoded data removed]",
      "text/plain": [
       "<Figure size 936x360 with 1 Axes>"
      ]
     },
     "metadata": {
      "needs_background": "light"
     },
     "output_type": "display_data"
    },
    {
     "data": {
      "image/png": "[encoded data removed]",
      "text/plain": [
       "<Figure size 936x360 with 1 Axes>"
      ]
     },
     "metadata": {
      "needs_background": "light"
     },
     "output_type": "display_data"
    }
   ],
   "source": [
    "# plot scatterplots and line plots for both signals\n",
    "\n",
    "star_signals(signal=star_signal_alpha, label_col='LABEL', classes=[1,2], \n",
    "                 class_names=['No Planet', 'Planet'], figsize=(13,5), \n",
    "             y_units='PDC_SAP Flux', x_units='Time')\n",
    "\n",
    "star_signals(signal=star_signal_beta, label_col='LABEL', classes=[1,2], \n",
    "                 class_names=['No Planet', 'Planet'], figsize=(13,5),\n",
    "             y_units='PDC_SAP Flux', x_units='Time')"
   ]
  },
  {
   "cell_type": "markdown",
   "metadata": {},
   "source": [
    "# Model"
   ]
  },
  {
   "cell_type": "code",
   "execution_count": 13,
   "metadata": {
    "ExecuteTime": {
     "end_time": "2020-04-14T20:54:51.054600Z",
     "start_time": "2020-04-14T20:54:50.977609Z"
    }
   },
   "outputs": [],
   "source": [
    "# import additional libraries from sklearn\n",
    "# from sklearn.linear_model import LinearRegression\n",
    "# from sklearn.preprocessing import StandardScaler\n",
    "from scipy.ndimage.filters import uniform_filter1d\n",
    "from sklearn.model_selection import train_test_split\n",
    "from sklearn import preprocessing\n",
    "import random"
   ]
  },
  {
   "cell_type": "code",
   "execution_count": 14,
   "metadata": {
    "ExecuteTime": {
     "end_time": "2020-04-14T20:54:51.058171Z",
     "start_time": "2020-04-14T20:54:51.055782Z"
    }
   },
   "outputs": [],
   "source": [
    "# !pip install keras\n",
    "# !pip install tensorflow"
   ]
  },
  {
   "cell_type": "code",
   "execution_count": 15,
   "metadata": {
    "ExecuteTime": {
     "end_time": "2020-04-14T20:54:53.019596Z",
     "start_time": "2020-04-14T20:54:51.059368Z"
    }
   },
   "outputs": [
    {
     "name": "stderr",
     "output_type": "stream",
     "text": [
      "Using TensorFlow backend.\n"
     ]
    }
   ],
   "source": [
    "# import additional libraries for keras\n",
    "import keras\n",
    "from keras.utils.np_utils import to_categorical\n",
    "\n",
    "# from keras.preprocessing.text import Tokenizer\n",
    "from keras import models, layers, optimizers\n",
    "\n",
    "\n",
    "from keras.models import Sequential, Model\n",
    "from keras.layers import Conv1D, MaxPool1D, Dense, Dropout, Flatten, \\\n",
    "BatchNormalization, Input, concatenate, Activation\n",
    "from keras.optimizers import Adam"
   ]
  },
  {
   "cell_type": "markdown",
   "metadata": {},
   "source": [
    "## Train-Test Split"
   ]
  },
  {
   "cell_type": "code",
   "execution_count": 16,
   "metadata": {
    "ExecuteTime": {
     "end_time": "2020-04-14T20:54:53.024761Z",
     "start_time": "2020-04-14T20:54:53.020704Z"
    }
   },
   "outputs": [],
   "source": [
    "# Using Numpy instead of Pandas to create the 1-dimensional arrays\n",
    "def numpy_train_test_split(data_folder, train_set, test_set):\n",
    "    \"\"\"\n",
    "    create target classes for training and test data using numpy\n",
    "    \"\"\"\n",
    "    import numpy as np\n",
    "    \n",
    "    train = np.loadtxt(data_folder+train_set, skiprows=1, delimiter=',')\n",
    "    x_train = train[:, 1:]\n",
    "    y_train = train[:, 0, np.newaxis] - 1.\n",
    "    \n",
    "    test = np.loadtxt(data_folder+test_set, skiprows=1, delimiter=',')\n",
    "    x_test = test[:, 1:]\n",
    "    y_test = test[:, 0, np.newaxis] - 1.\n",
    "    \n",
    "    train,test\n",
    "    \n",
    "    return x_train, y_train, x_test, y_test"
   ]
  },
  {
   "cell_type": "code",
   "execution_count": 17,
   "metadata": {
    "ExecuteTime": {
     "end_time": "2020-04-14T20:55:04.292216Z",
     "start_time": "2020-04-14T20:54:53.025948Z"
    }
   },
   "outputs": [],
   "source": [
    "x_train, y_train, x_test, y_test = numpy_train_test_split(data_folder='data/', \n",
    "                                                          train_set='exoTrain.csv', \n",
    "                                                          test_set='exoTest.csv')"
   ]
  },
  {
   "cell_type": "markdown",
   "metadata": {},
   "source": [
    "## Scaling\n",
    "\n",
    "Scale each observation to zero mean and unit variance."
   ]
  },
  {
   "cell_type": "code",
   "execution_count": 18,
   "metadata": {
    "ExecuteTime": {
     "end_time": "2020-04-14T20:55:04.298012Z",
     "start_time": "2020-04-14T20:55:04.293713Z"
    }
   },
   "outputs": [],
   "source": [
    "def zero_scaler(x_train, x_test):\n",
    "    \"\"\"\n",
    "    Scales each observation of an array to zero mean and unit variance.\n",
    "    Takes array for train and test data separately.\n",
    "    \"\"\"\n",
    "    import numpy as np\n",
    "        \n",
    "    x_train = ((x_train - np.mean(x_train, axis=1).reshape(-1,1)) / \n",
    "           np.std(x_train, axis=1).reshape(-1,1))\n",
    "    \n",
    "    x_test = ((x_test - np.mean(x_test, axis=1).reshape(-1,1)) / \n",
    "              np.std(x_test, axis=1).reshape(-1,1))\n",
    " \n",
    "    return x_train, x_test"
   ]
  },
  {
   "cell_type": "code",
   "execution_count": 19,
   "metadata": {
    "ExecuteTime": {
     "end_time": "2020-04-14T20:55:04.639459Z",
     "start_time": "2020-04-14T20:55:04.299585Z"
    }
   },
   "outputs": [],
   "source": [
    "x_train,x_test = zero_scaler(x_train, x_test)"
   ]
  },
  {
   "cell_type": "markdown",
   "metadata": {},
   "source": [
    "## De-noising"
   ]
  },
  {
   "cell_type": "markdown",
   "metadata": {},
   "source": [
    "In order to reduce the amount of high frequency noise that is likely to have an adverse effect on the neural network's learning outcomes, we can try passing a uniform 1-D filter on our scaled train and test data then stack the arrays along the second axis. There are other ways of accomplishing the de-noising (not to mention the scaling and also normalization), but for now we'll take this approach in order to complete the process of building our initial baseline model."
   ]
  },
  {
   "cell_type": "code",
   "execution_count": 20,
   "metadata": {
    "ExecuteTime": {
     "end_time": "2020-04-14T20:55:04.646876Z",
     "start_time": "2020-04-14T20:55:04.641243Z"
    }
   },
   "outputs": [],
   "source": [
    "def time_filter(x_train, x_test, step_size=None, axis=2):\n",
    "    \"\"\"\n",
    "    Adds an input corresponding to the running average over a set number\n",
    "    of time steps. This helps the neural network to ignore high frequency \n",
    "    noise by passing in a uniform 1-D filter and stacking the arrays. \n",
    "    \n",
    "    **ARGS\n",
    "    step_size: integer, # timesteps for 1D filter. defaults to 200\n",
    "    axis: which axis to stack the arrays\n",
    "    \"\"\"\n",
    "    import numpy as np\n",
    "    from scipy.ndimage.filters import uniform_filter1d\n",
    "    \n",
    "    if step_size is None:\n",
    "        step_size=200\n",
    "    \n",
    "    train_filter = uniform_filter1d(x_train, axis=1, size=step_size)\n",
    "    test_filter = uniform_filter1d(x_test, axis=1, size=step_size)\n",
    "    \n",
    "    x_train = np.stack([x_train, train_filter], axis=2)\n",
    "    x_test = np.stack([x_test, test_filter], axis=2)\n",
    "#     x_train = np.stack([x_train, uniform_filter1d(x_train, axis=1, \n",
    "#                                                  size=time_steps)], axis=2)\n",
    "#     x_test = np.stack([x_test, uniform_filter1d(x_test, axis=1, \n",
    "#                                                size=time_steps)], axis=2)\n",
    "    \n",
    "    return x_train, x_test"
   ]
  },
  {
   "cell_type": "code",
   "execution_count": 21,
   "metadata": {
    "ExecuteTime": {
     "end_time": "2020-04-14T20:55:04.958695Z",
     "start_time": "2020-04-14T20:55:04.649508Z"
    }
   },
   "outputs": [],
   "source": [
    "x_train, x_test = time_filter(x_train, x_test, step_size=200, axis=2)"
   ]
  },
  {
   "cell_type": "code",
   "execution_count": 22,
   "metadata": {
    "ExecuteTime": {
     "end_time": "2020-04-14T20:55:04.963841Z",
     "start_time": "2020-04-14T20:55:04.960266Z"
    }
   },
   "outputs": [
    {
     "data": {
      "text/plain": [
       "'3.2.1'"
      ]
     },
     "execution_count": 22,
     "metadata": {},
     "output_type": "execute_result"
    }
   ],
   "source": [
    "import matplotlib\n",
    "matplotlib.__version__"
   ]
  },
  {
   "cell_type": "code",
   "execution_count": null,
   "metadata": {},
   "outputs": [],
   "source": []
  },
  {
   "cell_type": "code",
   "execution_count": 23,
   "metadata": {
    "ExecuteTime": {
     "end_time": "2020-04-14T20:55:04.970681Z",
     "start_time": "2020-04-14T20:55:04.967616Z"
    }
   },
   "outputs": [
    {
     "name": "stdout",
     "output_type": "stream",
     "text": [
      "(5087, 3197, 2)\n",
      "(5087, 1)\n"
     ]
    }
   ],
   "source": [
    "print(x_train.shape)\n",
    "print(y_train.shape)"
   ]
  },
  {
   "cell_type": "code",
   "execution_count": 24,
   "metadata": {
    "ExecuteTime": {
     "end_time": "2020-04-14T20:55:04.978818Z",
     "start_time": "2020-04-14T20:55:04.973665Z"
    }
   },
   "outputs": [
    {
     "name": "stdout",
     "output_type": "stream",
     "text": [
      "(570, 3197, 2)\n",
      "(570, 1)\n"
     ]
    }
   ],
   "source": [
    "print(x_test.shape)\n",
    "print(y_test.shape)"
   ]
  },
  {
   "cell_type": "markdown",
   "metadata": {},
   "source": [
    "## Build Model"
   ]
  },
  {
   "cell_type": "markdown",
   "metadata": {},
   "source": [
    "### **Tactical Decisions**\n",
    "\n",
    "Since I'm building the baseline model from scratch, a few considerations need to be made. While we can run a gridsearch (or randomizedsearchCV) to get the parameters for us, we still need to decide what type of model would be most ideal for this dataset, knowing what we know so far based on the work done so far. From there, we can go with best practices, assess the initial outcomes, and tune the hyperparameters with each iteration. \n",
    "\n",
    "**CNN**\n",
    "The baseline will consist of a one-dimensional convolutional neural network (CNN). This is ideal for working with this particular dataset in which we will pass one row of the timeseries flux values as an array. This is very similar to how we would process image data (and that's strategically useful if we want to develop the model in the future to handle Full-Frame Images from Tess, for instance, or spectographs of the flux frequences, for instance. \n",
    "\n",
    "**1-Layer at a time**\n",
    "We'll be using the Keras API which makes it easy to add in the layers one at a time. Each 1D convolutional layer corresponds to a local filter, and then a pooling layer reduces the data length by approximately a factor 4. At the end, there are two dense layers. Again, this is similar to the approach taken for a typical image classifier. \n",
    "\n",
    "**Activation Function**\n",
    "The RELU activation function is closest to how real neurons actually work and often produces the best results compared to the other options, so we'll at least start with this for the baseline.\n",
    "\n",
    "**Batch Normalization**\n",
    "Finally, the batch normalization layers are what help to speed up convergence. "
   ]
  },
  {
   "cell_type": "code",
   "execution_count": 25,
   "metadata": {
    "ExecuteTime": {
     "end_time": "2020-04-14T20:55:05.001328Z",
     "start_time": "2020-04-14T20:55:04.980332Z"
    }
   },
   "outputs": [],
   "source": [
    "def keras_1D(model=Sequential(), kernel_size=11, \n",
    "                           activation='relu', \n",
    "                           input_shape=x_train.shape[1:], strides=4):\n",
    "    \"\"\"\n",
    "    Linear neural network model using the Keras API\n",
    "    \"\"\"\n",
    "    model = model\n",
    "    #layer1: the first layer will receive an input shape\n",
    "    model.add(Conv1D(filters=8, kernel_size=kernel_size, \n",
    "                     activation=activation, input_shape=input_shape))\n",
    "    model.add(MaxPool1D(strides=strides))\n",
    "    model.add(BatchNormalization())\n",
    "    #layer2\n",
    "    model.add(Conv1D(filters=16, kernel_size=kernel_size, \n",
    "                     activation=activation))\n",
    "    model.add(MaxPool1D(strides=strides))\n",
    "    model.add(BatchNormalization())\n",
    "    #layer3\n",
    "    model.add(Conv1D(filters=32, kernel_size=kernel_size, \n",
    "                     activation=activation))\n",
    "    model.add(MaxPool1D(strides=strides))\n",
    "    model.add(BatchNormalization())\n",
    "    #layer4\n",
    "    model.add(Conv1D(filters=64, kernel_size=kernel_size, \n",
    "                     activation=activation))\n",
    "    model.add(MaxPool1D(strides=strides))\n",
    "    model.add(Flatten())\n",
    "    \n",
    "    #dropout layer1 with automatic shape inference\n",
    "    model.add(Dropout(0.5))\n",
    "    model.add(Dense(64, activation=activation))\n",
    "    #dropout layer2\n",
    "    model.add(Dropout(0.25))\n",
    "    model.add(Dense(64, activation=activation))\n",
    "    # sigmoid layer\n",
    "    model.add(Dense(1, activation='sigmoid'))\n",
    "    \n",
    "    return model"
   ]
  },
  {
   "cell_type": "code",
   "execution_count": 26,
   "metadata": {
    "ExecuteTime": {
     "end_time": "2020-04-14T20:55:05.413837Z",
     "start_time": "2020-04-14T20:55:05.002736Z"
    }
   },
   "outputs": [
    {
     "name": "stdout",
     "output_type": "stream",
     "text": [
      "WARNING:tensorflow:From //anaconda3/envs/learn-env/lib/python3.6/site-packages/tensorflow/python/ops/resource_variable_ops.py:435: colocate_with (from tensorflow.python.framework.ops) is deprecated and will be removed in a future version.\n",
      "Instructions for updating:\n",
      "Colocations handled automatically by placer.\n"
     ]
    }
   ],
   "source": [
    "\n",
    "# set our build function to use the baseline model we built initially\n",
    "keras_train = keras_1D(model=Sequential(), kernel_size=11, activation='relu', \n",
    "                           input_shape=x_train.shape[1:], strides=4)"
   ]
  },
  {
   "cell_type": "markdown",
   "metadata": {},
   "source": [
    "## Batch Generator"
   ]
  },
  {
   "cell_type": "markdown",
   "metadata": {},
   "source": [
    "To correct for the extremely unbalanced dataset, we'll ensure that the network sees 50% of the positive sample over each batch. We will also apply augmentation by rotating each of the samples randomly each time, thus generating new data. This is similar to image classification when we rotate or shift the samples each time."
   ]
  },
  {
   "cell_type": "code",
   "execution_count": 27,
   "metadata": {
    "ExecuteTime": {
     "end_time": "2020-04-14T20:55:05.423595Z",
     "start_time": "2020-04-14T20:55:05.415514Z"
    }
   },
   "outputs": [],
   "source": [
    "def batch_maker(x_train, y_train, batch_size=32):\n",
    "    \"\"\"\n",
    "    Gives equal number of positive and negative samples rotating randomly\n",
    "    \n",
    "    generator: A generator or an instance of `keras.utils.Sequence`\n",
    "        \n",
    "    The output of the generator must be either\n",
    "    - a tuple `(inputs, targets)`\n",
    "    - a tuple `(inputs, targets, sample_weights)`.\n",
    "\n",
    "    This tuple (a single output of the generator) makes a single\n",
    "    batch. Therefore, all arrays in this tuple must have the same\n",
    "    length (equal to the size of this batch). Different batches may have \n",
    "    different sizes. \n",
    "\n",
    "    For example, the last batch of the epoch\n",
    "    is commonly smaller than the others, if the size of the dataset\n",
    "    is not divisible by the batch size.\n",
    "    The generator is expected to loop over its data\n",
    "    indefinitely. An epoch finishes when `steps_per_epoch`\n",
    "    batches have been seen by the model.\n",
    "    \n",
    "    \"\"\"\n",
    "    import numpy\n",
    "    import random\n",
    "\n",
    "    half_batch = batch_size // 2\n",
    "    \n",
    "    # Returns a new array of given shape and type, without initializing entries.\n",
    "    # x_train.shape = (5087, 3197, 2)\n",
    "    x_batch = np.empty((batch_size, x_train.shape[1], x_train.shape[2]), dtype='float32')\n",
    "    \n",
    "    #y_train.shape = (5087, 1)\n",
    "    y_batch = np.empty((batch_size, y_train.shape[1]), dtype='float32')\n",
    "    \n",
    "    pos_idx = np.where(y_train[:,0] == 1.)[0]\n",
    "    neg_idx = np.where(y_train[:,0] == 0.)[0]\n",
    "\n",
    "    # rotating each of the samples randomly\n",
    "    while True:\n",
    "        np.random.shuffle(pos_idx)\n",
    "        np.random.shuffle(neg_idx)\n",
    "    \n",
    "        x_batch[:half_batch] = x_train[pos_idx[:half_batch]]\n",
    "        x_batch[half_batch:] = x_train[neg_idx[half_batch:batch_size]]\n",
    "        y_batch[:half_batch] = y_train[pos_idx[:half_batch]]\n",
    "        y_batch[half_batch:] = y_train[neg_idx[half_batch:batch_size]]\n",
    "    \n",
    "        for i in range(batch_size):\n",
    "            sz = np.random.randint(x_batch.shape[1])\n",
    "            x_batch[i] = np.roll(x_batch[i], sz, axis = 0)\n",
    "     \n",
    "        yield x_batch, y_batch"
   ]
  },
  {
   "cell_type": "markdown",
   "metadata": {},
   "source": [
    "## Train Model"
   ]
  },
  {
   "cell_type": "code",
   "execution_count": 28,
   "metadata": {
    "ExecuteTime": {
     "end_time": "2020-04-14T20:55:05.433068Z",
     "start_time": "2020-04-14T20:55:05.425221Z"
    }
   },
   "outputs": [],
   "source": [
    "def scikit_keras(build_fn=None, compiler=None, params=None, batch_size=32):\n",
    "    \"\"\"\n",
    "    Builds, compiles and fits a keras model\n",
    "    Takes in dictionaries of parameters for both compiler and\n",
    "    fit_generator.\n",
    "    \n",
    "    *ARGS\n",
    "    build_fn: build function for creating model, can also pass in a model\n",
    "    compiler : dict of paramaters for model.compile()\n",
    "    params : dict of parameters for model.fit_generator\n",
    "    note: batch\n",
    "    \n",
    "    \n",
    "    \"\"\"\n",
    "    # set default parameters if not made explicit\n",
    "    \n",
    "    # BUILD vars\n",
    "    if build_fn:\n",
    "        model=build_fn\n",
    "    else:\n",
    "        model = keras_1D(model=Sequential(), kernel_size=11, activation='relu', \n",
    "                           input_shape=x_train.shape[1:], strides=4)\n",
    "\n",
    "    # COMPILE vars\n",
    "    if compiler:   \n",
    "        optimizer=compiler['optimizer']\n",
    "        learning_rate=compiler['learning_rate'] \n",
    "        loss=compiler['loss']\n",
    "        metrics=compiler['metrics']\n",
    "     \n",
    "    else:\n",
    "        optimizer=Adam\n",
    "        learning_rate=1e-5\n",
    "        loss='binary_crossentropy'\n",
    "        metrics=['accuracy']\n",
    "        \n",
    "        \n",
    "    ##### COMPILE AND FIT #####\n",
    "    model.compile(optimizer=optimizer(learning_rate), loss=loss, \n",
    "                  metrics=metrics)\n",
    "    \n",
    "    # HISTORY vars\n",
    "#     if generator is None:\n",
    "#         generator = batch_maker(x_train, y_train, batch_size)\n",
    "    \n",
    "    if params:\n",
    "        validation_data = params['validation_data']\n",
    "        verbose = params['verbose']\n",
    "        epochs = params['epochs']\n",
    "        steps_per_epoch = params['steps_per_epoch']\n",
    "    else:\n",
    "        validation_data = (x_test, y_test)\n",
    "        verbose=0\n",
    "        epochs=5\n",
    "        steps_per_epoch=x_train.shape[1]//32\n",
    "    \n",
    "    history = model.fit_generator(batch_maker(x_train, y_train, batch_size), \n",
    "                                  validation_data=validation_data, \n",
    "                                  verbose=verbose, epochs=epochs, \n",
    "                                  steps_per_epoch=steps_per_epoch)\n",
    "    \n",
    "    return model, history"
   ]
  },
  {
   "cell_type": "markdown",
   "metadata": {},
   "source": [
    "# `Model 1`\n",
    "\n",
    "We'll begin creating a baseline model with a lower than usual learning rate and then speed things up and fine-tune parameters for optimization in the next iterations. (The lower learning rate will help to ensure convergence.) \n",
    "\n",
    "We'll increase the learning rate in Model2 iteration and also tune any other parameters as necessary. The first iteration uses the Adam optimizer, however, SGD is also a good option we could try here."
   ]
  },
  {
   "cell_type": "code",
   "execution_count": 29,
   "metadata": {
    "ExecuteTime": {
     "end_time": "2020-04-14T20:55:05.439140Z",
     "start_time": "2020-04-14T20:55:05.434596Z"
    }
   },
   "outputs": [],
   "source": [
    "# create params dict for compiling model\n",
    "compiler = dict(optimizer=Adam,\n",
    "                learning_rate=1e-5,\n",
    "                loss='binary_crossentropy',\n",
    "                metrics=['accuracy'])\n",
    "\n",
    "# create dict for fit_generator parameters\n",
    "params = dict(validation_data = (x_test, y_test), \n",
    "              verbose=0, \n",
    "              epochs=5, \n",
    "              steps_per_epoch=(x_train.shape[1]//32))"
   ]
  },
  {
   "cell_type": "code",
   "execution_count": 30,
   "metadata": {
    "ExecuteTime": {
     "end_time": "2020-04-14T20:55:30.684640Z",
     "start_time": "2020-04-14T20:55:05.441074Z"
    }
   },
   "outputs": [
    {
     "name": "stdout",
     "output_type": "stream",
     "text": [
      "WARNING:tensorflow:From //anaconda3/envs/learn-env/lib/python3.6/site-packages/tensorflow/python/ops/math_ops.py:3066: to_int32 (from tensorflow.python.ops.math_ops) is deprecated and will be removed in a future version.\n",
      "Instructions for updating:\n",
      "Use tf.cast instead.\n"
     ]
    }
   ],
   "source": [
    "# MODEL 1\n",
    "# using the baseline model as our build model function\n",
    "m1, h1 = scikit_keras(build_fn=keras_train, compiler=compiler, params=params)"
   ]
  },
  {
   "cell_type": "code",
   "execution_count": 31,
   "metadata": {
    "ExecuteTime": {
     "end_time": "2020-04-14T20:55:30.688958Z",
     "start_time": "2020-04-14T20:55:30.686024Z"
    }
   },
   "outputs": [],
   "source": [
    "model = m1"
   ]
  },
  {
   "cell_type": "markdown",
   "metadata": {},
   "source": [
    "## Summary (M1)"
   ]
  },
  {
   "cell_type": "code",
   "execution_count": 32,
   "metadata": {
    "ExecuteTime": {
     "end_time": "2020-04-14T20:55:30.699190Z",
     "start_time": "2020-04-14T20:55:30.691144Z"
    }
   },
   "outputs": [
    {
     "name": "stdout",
     "output_type": "stream",
     "text": [
      "Model: \"sequential_2\"\n",
      "_________________________________________________________________\n",
      "Layer (type)                 Output Shape              Param #   \n",
      "=================================================================\n",
      "conv1d_1 (Conv1D)            (None, 3187, 8)           184       \n",
      "_________________________________________________________________\n",
      "max_pooling1d_1 (MaxPooling1 (None, 797, 8)            0         \n",
      "_________________________________________________________________\n",
      "batch_normalization_1 (Batch (None, 797, 8)            32        \n",
      "_________________________________________________________________\n",
      "conv1d_2 (Conv1D)            (None, 787, 16)           1424      \n",
      "_________________________________________________________________\n",
      "max_pooling1d_2 (MaxPooling1 (None, 197, 16)           0         \n",
      "_________________________________________________________________\n",
      "batch_normalization_2 (Batch (None, 197, 16)           64        \n",
      "_________________________________________________________________\n",
      "conv1d_3 (Conv1D)            (None, 187, 32)           5664      \n",
      "_________________________________________________________________\n",
      "max_pooling1d_3 (MaxPooling1 (None, 47, 32)            0         \n",
      "_________________________________________________________________\n",
      "batch_normalization_3 (Batch (None, 47, 32)            128       \n",
      "_________________________________________________________________\n",
      "conv1d_4 (Conv1D)            (None, 37, 64)            22592     \n",
      "_________________________________________________________________\n",
      "max_pooling1d_4 (MaxPooling1 (None, 9, 64)             0         \n",
      "_________________________________________________________________\n",
      "flatten_1 (Flatten)          (None, 576)               0         \n",
      "_________________________________________________________________\n",
      "dropout_1 (Dropout)          (None, 576)               0         \n",
      "_________________________________________________________________\n",
      "dense_1 (Dense)              (None, 64)                36928     \n",
      "_________________________________________________________________\n",
      "dropout_2 (Dropout)          (None, 64)                0         \n",
      "_________________________________________________________________\n",
      "dense_2 (Dense)              (None, 64)                4160      \n",
      "_________________________________________________________________\n",
      "dense_3 (Dense)              (None, 1)                 65        \n",
      "=================================================================\n",
      "Total params: 71,241\n",
      "Trainable params: 71,129\n",
      "Non-trainable params: 112\n",
      "_________________________________________________________________\n"
     ]
    }
   ],
   "source": [
    "m1.summary()"
   ]
  },
  {
   "cell_type": "markdown",
   "metadata": {},
   "source": [
    "## Class Predictions"
   ]
  },
  {
   "cell_type": "markdown",
   "metadata": {},
   "source": [
    "### Probability Values"
   ]
  },
  {
   "cell_type": "code",
   "execution_count": 33,
   "metadata": {
    "ExecuteTime": {
     "end_time": "2020-04-14T20:55:31.029865Z",
     "start_time": "2020-04-14T20:55:30.702109Z"
    }
   },
   "outputs": [
    {
     "data": {
      "text/plain": [
       "array([0.49503595, 0.41817677, 0.5988674 , 0.40178925, 0.47223005,\n",
       "       0.46236265, 0.49048138, 0.47859687, 0.45726755, 0.51526535,\n",
       "       0.6192342 , 0.4600796 , 0.4822864 , 0.46804404, 0.43335918,\n",
       "       0.46892133, 0.42925575, 0.42645684, 0.37916127, 0.4712899 ,\n",
       "       0.5085216 , 0.543909  , 0.46631083, 0.46153927, 0.46887368,\n",
       "       0.50598603, 0.3963065 , 0.49273506, 0.4508442 , 0.49310282,\n",
       "       0.5681335 , 0.48976386, 0.32459074, 0.41267478, 0.4595109 ,\n",
       "       0.34829473, 0.36548746, 0.5158147 , 0.44356683, 0.53211176,\n",
       "       0.42666447, 0.3177678 , 0.6016406 , 0.21603706, 0.5065981 ,\n",
       "       0.4589092 , 0.5674484 , 0.47964105, 0.2538919 , 0.3944332 ,\n",
       "       0.5703489 , 0.52045614, 0.5362544 , 0.5628211 , 0.4968211 ,\n",
       "       0.38480175, 0.5648774 , 0.5743452 , 0.4373834 , 0.5192969 ,\n",
       "       0.499169  , 0.50837845, 0.7197772 , 0.42937148, 0.34844023,\n",
       "       0.44999894, 0.5396736 , 0.46357653, 0.43546912, 0.38106066,\n",
       "       0.5303312 , 0.54106474, 0.49856636, 0.54420424, 0.28355175,\n",
       "       0.5754278 , 0.48633933, 0.514212  , 0.5408094 , 0.509225  ,\n",
       "       0.25515985, 0.45623124, 0.5253315 , 0.6568939 , 0.56562656,\n",
       "       0.43182725, 0.508477  , 0.5292433 , 0.32678962, 0.55007154,\n",
       "       0.46426827, 0.47063547, 0.4650094 , 0.4062614 , 0.39890957,\n",
       "       0.4995205 , 0.40878642, 0.37303543, 0.5752651 , 0.35471505,\n",
       "       0.2644508 , 0.45277932, 0.37914392, 0.5619686 , 0.51378596,\n",
       "       0.30279368, 0.47869784, 0.49078596, 0.50156707, 0.5080631 ,\n",
       "       0.47590947, 0.4649307 , 0.3748114 , 0.4582228 , 0.3571561 ,\n",
       "       0.46688488, 0.43558815, 0.5875877 , 0.34704942, 0.46779552,\n",
       "       0.5278844 , 0.2730519 , 0.29031074, 0.48297226, 0.5044379 ,\n",
       "       0.5706859 , 0.51987565, 0.43576854, 0.57021195, 0.42385077,\n",
       "       0.4590946 , 0.41823396, 0.49495563, 0.43263236, 0.32060993,\n",
       "       0.46119553, 0.55018914, 0.582678  , 0.5248214 , 0.6053114 ,\n",
       "       0.2871552 , 0.5865046 , 0.56244206, 0.41554448, 0.4920204 ,\n",
       "       0.40552866, 0.4200767 , 0.53407115, 0.6644156 , 0.45812616,\n",
       "       0.46976548, 0.533058  , 0.5275699 , 0.4832324 , 0.39860225,\n",
       "       0.25027412, 0.40438396, 0.4011782 , 0.44859314, 0.5956049 ,\n",
       "       0.47489205, 0.58833444, 0.40668988, 0.43540385, 0.58928335,\n",
       "       0.36998338, 0.38958403, 0.40545452, 0.525971  , 0.38621953,\n",
       "       0.320657  , 0.47471547, 0.539943  , 0.56834495, 0.41915032,\n",
       "       0.5419477 , 0.38137865, 0.46500206, 0.50844055, 0.48759878,\n",
       "       0.42613268, 0.35342753, 0.3865121 , 0.7003095 , 0.4721493 ,\n",
       "       0.43946338, 0.37084234, 0.4493515 , 0.5496321 , 0.5212157 ,\n",
       "       0.4188914 , 0.3099681 , 0.47813228, 0.544693  , 0.49205124,\n",
       "       0.49087486, 0.49440756, 0.47022283, 0.4393436 , 0.518683  ,\n",
       "       0.46212825, 0.5598821 , 0.4013337 , 0.46967545, 0.47278616,\n",
       "       0.5283786 , 0.5413967 , 0.55706173, 0.4714555 , 0.4646641 ,\n",
       "       0.43794537, 0.3729356 , 0.41823405, 0.4305709 , 0.58561265,\n",
       "       0.34365433, 0.4388827 , 0.35875154, 0.19825077, 0.47518736,\n",
       "       0.5275378 , 0.38308764, 0.42120898, 0.20669365, 0.44430602,\n",
       "       0.5813311 , 0.49716765, 0.5476091 , 0.39306244, 0.4868738 ,\n",
       "       0.5575349 , 0.48851743, 0.40382254, 0.23285756, 0.46874437,\n",
       "       0.4972036 , 0.56179124, 0.4011458 , 0.51693445, 0.39347875,\n",
       "       0.5584326 , 0.3276214 , 0.46121827, 0.44136998, 0.4487143 ,\n",
       "       0.4364936 , 0.48022377, 0.5160223 , 0.3509807 , 0.41378856,\n",
       "       0.3744691 , 0.55462325, 0.45905453, 0.27178562, 0.3137429 ,\n",
       "       0.42811677, 0.31003982, 0.4714871 , 0.57498205, 0.49234977,\n",
       "       0.5513645 , 0.40879312, 0.56463665, 0.50570166, 0.51078933,\n",
       "       0.39337626, 0.3926695 , 0.4542184 , 0.41646814, 0.23959175,\n",
       "       0.39794007, 0.4288855 , 0.53050005, 0.4776643 , 0.3864758 ,\n",
       "       0.2377435 , 0.52770394, 0.55525136, 0.43237895, 0.33244675,\n",
       "       0.53043497, 0.59058553, 0.48708406, 0.32511127, 0.45164365,\n",
       "       0.40766275, 0.26356074, 0.4981116 , 0.4499224 , 0.4982711 ,\n",
       "       0.36908674, 0.5859325 , 0.49666238, 0.55918574, 0.5765773 ,\n",
       "       0.41622597, 0.47810584, 0.42141265, 0.5149714 , 0.6091979 ,\n",
       "       0.5273621 , 0.5252696 , 0.72305834, 0.49278182, 0.55474776,\n",
       "       0.22304526, 0.43992025, 0.4020819 , 0.47062528, 0.46083412,\n",
       "       0.4635921 , 0.35156852, 0.47847798, 0.42438257, 0.7247543 ,\n",
       "       0.20827472, 0.38320312, 0.59444165, 0.45101464, 0.57212204,\n",
       "       0.41531932, 0.27452564, 0.5800901 , 0.5137859 , 0.4711504 ,\n",
       "       0.5772306 , 0.51382786, 0.43527138, 0.4673574 , 0.5106949 ,\n",
       "       0.44652072, 0.5515843 , 0.4978089 , 0.51334155, 0.49974242,\n",
       "       0.45643038, 0.38753793, 0.37125123, 0.4346956 , 0.5455625 ,\n",
       "       0.37758708, 0.5185395 , 0.5722252 , 0.39618602, 0.47767565,\n",
       "       0.52551293, 0.56619805, 0.35965347, 0.6061343 , 0.5332914 ,\n",
       "       0.45988727, 0.44310465, 0.51810217, 0.50093365, 0.53140765,\n",
       "       0.4063635 , 0.48125568, 0.42322454, 0.38137102, 0.4227319 ,\n",
       "       0.54162097, 0.34531814, 0.50605893, 0.53424984, 0.3301751 ,\n",
       "       0.1562052 , 0.52674687, 0.60543895, 0.61172736, 0.47670287,\n",
       "       0.6352795 , 0.27700627, 0.5664896 , 0.5116158 , 0.38951766,\n",
       "       0.57896227, 0.37439197, 0.47874847, 0.5091962 , 0.3592198 ,\n",
       "       0.32886577, 0.3878346 , 0.51683444, 0.43968192, 0.43093663,\n",
       "       0.42322135, 0.49731332, 0.40796435, 0.5528649 , 0.6481123 ,\n",
       "       0.19607154, 0.47606692, 0.39181012, 0.5062019 , 0.31267497,\n",
       "       0.48549983, 0.3738179 , 0.5366557 , 0.23612347, 0.45765886,\n",
       "       0.52239335, 0.45741695, 0.5506796 , 0.40290764, 0.39912498,\n",
       "       0.31163102, 0.51915246, 0.5285254 , 0.40122432, 0.4307249 ,\n",
       "       0.4475736 , 0.40952742, 0.58694834, 0.3901675 , 0.43403763,\n",
       "       0.54173267, 0.5604641 , 0.50940645, 0.4138252 , 0.38154435,\n",
       "       0.3006278 , 0.48896933, 0.41406223, 0.5348288 , 0.41696668,\n",
       "       0.32559466, 0.26882887, 0.33442444, 0.45894235, 0.49780875,\n",
       "       0.5164226 , 0.5126142 , 0.43538558, 0.42920783, 0.43119633,\n",
       "       0.46764585, 0.5746547 , 0.3595338 , 0.47339624, 0.21531099,\n",
       "       0.34457088, 0.4437964 , 0.53170115, 0.39537624, 0.46623906,\n",
       "       0.35554278, 0.42963845, 0.39247763, 0.34920418, 0.5030031 ,\n",
       "       0.3442517 , 0.49444512, 0.40340143, 0.49755725, 0.37596962,\n",
       "       0.48703092, 0.49170575, 0.5026385 , 0.40848044, 0.51152676,\n",
       "       0.5250321 , 0.5248494 , 0.38580963, 0.47701046, 0.5009247 ,\n",
       "       0.47992074, 0.31209996, 0.39730662, 0.49347845, 0.42727482,\n",
       "       0.45537725, 0.5431672 , 0.34633008, 0.3688873 , 0.4921737 ,\n",
       "       0.40138686, 0.47111467, 0.55049944, 0.46286508, 0.45187414,\n",
       "       0.47674578, 0.5052935 , 0.4412636 , 0.18718943, 0.40175366,\n",
       "       0.58746976, 0.668348  , 0.44054186, 0.47913253, 0.35362583,\n",
       "       0.45643583, 0.43041688, 0.35916275, 0.53080934, 0.41992933,\n",
       "       0.5650575 , 0.40242574, 0.50157714, 0.51999897, 0.4805673 ,\n",
       "       0.40106633, 0.47630855, 0.42861867, 0.31467378, 0.5308546 ,\n",
       "       0.4954079 , 0.44129738, 0.4073248 , 0.3252914 , 0.48854494,\n",
       "       0.5256949 , 0.40958595, 0.5627302 , 0.569141  , 0.47503927,\n",
       "       0.4939908 , 0.4197742 , 0.38917285, 0.42162666, 0.4972458 ,\n",
       "       0.54103625, 0.36153406, 0.28614068, 0.37749556, 0.43917364,\n",
       "       0.523832  , 0.51226383, 0.58074105, 0.468702  , 0.28592438,\n",
       "       0.5466144 , 0.4455524 , 0.49651477, 0.3521943 , 0.33050004,\n",
       "       0.5757021 , 0.3639242 , 0.16954339, 0.36603284, 0.46927637,\n",
       "       0.45006013, 0.3813221 , 0.41526875, 0.5425614 , 0.3771349 ,\n",
       "       0.5022447 , 0.3924486 , 0.5269067 , 0.44678771, 0.51233256,\n",
       "       0.47223887, 0.50647146, 0.47271633, 0.55306756, 0.42873764,\n",
       "       0.31247717, 0.21782666, 0.546755  , 0.5436236 , 0.5508196 ,\n",
       "       0.4859997 , 0.41397554, 0.49487105, 0.55202216, 0.54087895,\n",
       "       0.48201647, 0.42805958, 0.43502063, 0.3263318 , 0.53243023],\n",
       "      dtype=float32)"
      ]
     },
     "execution_count": 33,
     "metadata": {},
     "output_type": "execute_result"
    }
   ],
   "source": [
    "# the probability values of the predictions\n",
    "# these need to be converted into binary values to be understood as far \n",
    "# what the class predictions are\n",
    "y_hat = m1.predict(x_test)[:,0] \n",
    "y_hat"
   ]
  },
  {
   "cell_type": "markdown",
   "metadata": {},
   "source": [
    "### Target Values"
   ]
  },
  {
   "cell_type": "code",
   "execution_count": 34,
   "metadata": {
    "ExecuteTime": {
     "end_time": "2020-04-14T20:55:31.036401Z",
     "start_time": "2020-04-14T20:55:31.031278Z"
    }
   },
   "outputs": [
    {
     "data": {
      "text/plain": [
       "array([1, 1, 1, 1, 1, 0, 0, 0, 0, 0, 0, 0, 0, 0, 0, 0, 0, 0, 0, 0, 0, 0,\n",
       "       0, 0, 0, 0, 0, 0, 0, 0, 0, 0, 0, 0, 0, 0, 0, 0, 0, 0, 0, 0, 0, 0,\n",
       "       0, 0, 0, 0, 0, 0, 0, 0, 0, 0, 0, 0, 0, 0, 0, 0, 0, 0, 0, 0, 0, 0,\n",
       "       0, 0, 0, 0, 0, 0, 0, 0, 0, 0, 0, 0, 0, 0, 0, 0, 0, 0, 0, 0, 0, 0,\n",
       "       0, 0, 0, 0, 0, 0, 0, 0, 0, 0, 0, 0, 0, 0, 0, 0, 0, 0, 0, 0, 0, 0,\n",
       "       0, 0, 0, 0, 0, 0, 0, 0, 0, 0, 0, 0, 0, 0, 0, 0, 0, 0, 0, 0, 0, 0,\n",
       "       0, 0, 0, 0, 0, 0, 0, 0, 0, 0, 0, 0, 0, 0, 0, 0, 0, 0, 0, 0, 0, 0,\n",
       "       0, 0, 0, 0, 0, 0, 0, 0, 0, 0, 0, 0, 0, 0, 0, 0, 0, 0, 0, 0, 0, 0,\n",
       "       0, 0, 0, 0, 0, 0, 0, 0, 0, 0, 0, 0, 0, 0, 0, 0, 0, 0, 0, 0, 0, 0,\n",
       "       0, 0, 0, 0, 0, 0, 0, 0, 0, 0, 0, 0, 0, 0, 0, 0, 0, 0, 0, 0, 0, 0,\n",
       "       0, 0, 0, 0, 0, 0, 0, 0, 0, 0, 0, 0, 0, 0, 0, 0, 0, 0, 0, 0, 0, 0,\n",
       "       0, 0, 0, 0, 0, 0, 0, 0, 0, 0, 0, 0, 0, 0, 0, 0, 0, 0, 0, 0, 0, 0,\n",
       "       0, 0, 0, 0, 0, 0, 0, 0, 0, 0, 0, 0, 0, 0, 0, 0, 0, 0, 0, 0, 0, 0,\n",
       "       0, 0, 0, 0, 0, 0, 0, 0, 0, 0, 0, 0, 0, 0, 0, 0, 0, 0, 0, 0, 0, 0,\n",
       "       0, 0, 0, 0, 0, 0, 0, 0, 0, 0, 0, 0, 0, 0, 0, 0, 0, 0, 0, 0, 0, 0,\n",
       "       0, 0, 0, 0, 0, 0, 0, 0, 0, 0, 0, 0, 0, 0, 0, 0, 0, 0, 0, 0, 0, 0,\n",
       "       0, 0, 0, 0, 0, 0, 0, 0, 0, 0, 0, 0, 0, 0, 0, 0, 0, 0, 0, 0, 0, 0,\n",
       "       0, 0, 0, 0, 0, 0, 0, 0, 0, 0, 0, 0, 0, 0, 0, 0, 0, 0, 0, 0, 0, 0,\n",
       "       0, 0, 0, 0, 0, 0, 0, 0, 0, 0, 0, 0, 0, 0, 0, 0, 0, 0, 0, 0, 0, 0,\n",
       "       0, 0, 0, 0, 0, 0, 0, 0, 0, 0, 0, 0, 0, 0, 0, 0, 0, 0, 0, 0, 0, 0,\n",
       "       0, 0, 0, 0, 0, 0, 0, 0, 0, 0, 0, 0, 0, 0, 0, 0, 0, 0, 0, 0, 0, 0,\n",
       "       0, 0, 0, 0, 0, 0, 0, 0, 0, 0, 0, 0, 0, 0, 0, 0, 0, 0, 0, 0, 0, 0,\n",
       "       0, 0, 0, 0, 0, 0, 0, 0, 0, 0, 0, 0, 0, 0, 0, 0, 0, 0, 0, 0, 0, 0,\n",
       "       0, 0, 0, 0, 0, 0, 0, 0, 0, 0, 0, 0, 0, 0, 0, 0, 0, 0, 0, 0, 0, 0,\n",
       "       0, 0, 0, 0, 0, 0, 0, 0, 0, 0, 0, 0, 0, 0, 0, 0, 0, 0, 0, 0, 0, 0,\n",
       "       0, 0, 0, 0, 0, 0, 0, 0, 0, 0, 0, 0, 0, 0, 0, 0, 0, 0, 0, 0])"
      ]
     },
     "execution_count": 34,
     "metadata": {},
     "output_type": "execute_result"
    }
   ],
   "source": [
    "# the test set's true values for our target class:\n",
    "y_true = (y_test[:, 0] + 0.5).astype(\"int\")\n",
    "y_true"
   ]
  },
  {
   "cell_type": "markdown",
   "metadata": {},
   "source": [
    "### Class Predictions"
   ]
  },
  {
   "cell_type": "code",
   "execution_count": 35,
   "metadata": {
    "ExecuteTime": {
     "end_time": "2020-04-14T20:55:31.217054Z",
     "start_time": "2020-04-14T20:55:31.037675Z"
    }
   },
   "outputs": [
    {
     "data": {
      "text/plain": [
       "array([0, 0, 1, 0, 0, 0, 0, 0, 0, 1, 1, 0, 0, 0, 0, 0, 0, 0, 0, 0, 1, 1,\n",
       "       0, 0, 0, 1, 0, 0, 0, 0, 1, 0, 0, 0, 0, 0, 0, 1, 0, 1, 0, 0, 1, 0,\n",
       "       1, 0, 1, 0, 0, 0, 1, 1, 1, 1, 0, 0, 1, 1, 0, 1, 0, 1, 1, 0, 0, 0,\n",
       "       1, 0, 0, 0, 1, 1, 0, 1, 0, 1, 0, 1, 1, 1, 0, 0, 1, 1, 1, 0, 1, 1,\n",
       "       0, 1, 0, 0, 0, 0, 0, 0, 0, 0, 1, 0, 0, 0, 0, 1, 1, 0, 0, 0, 1, 1,\n",
       "       0, 0, 0, 0, 0, 0, 0, 1, 0, 0, 1, 0, 0, 0, 1, 1, 1, 0, 1, 0, 0, 0,\n",
       "       0, 0, 0, 0, 1, 1, 1, 1, 0, 1, 1, 0, 0, 0, 0, 1, 1, 0, 0, 1, 1, 0,\n",
       "       0, 0, 0, 0, 0, 1, 0, 1, 0, 0, 1, 0, 0, 0, 1, 0, 0, 0, 1, 1, 0, 1,\n",
       "       0, 0, 1, 0, 0, 0, 0, 1, 0, 0, 0, 0, 1, 1, 0, 0, 0, 1, 0, 0, 0, 0,\n",
       "       0, 1, 0, 1, 0, 0, 0, 1, 1, 1, 0, 0, 0, 0, 0, 0, 1, 0, 0, 0, 0, 0,\n",
       "       1, 0, 0, 0, 0, 1, 0, 1, 0, 0, 1, 0, 0, 0, 0, 0, 1, 0, 1, 0, 1, 0,\n",
       "       0, 0, 0, 0, 0, 1, 0, 0, 0, 1, 0, 0, 0, 0, 0, 0, 1, 0, 1, 0, 1, 1,\n",
       "       1, 0, 0, 0, 0, 0, 0, 0, 1, 0, 0, 0, 1, 1, 0, 0, 1, 1, 0, 0, 0, 0,\n",
       "       0, 0, 0, 0, 0, 1, 0, 1, 1, 0, 0, 0, 1, 1, 1, 1, 1, 0, 1, 0, 0, 0,\n",
       "       0, 0, 0, 0, 0, 0, 1, 0, 0, 1, 0, 1, 0, 0, 1, 1, 0, 1, 1, 0, 0, 1,\n",
       "       0, 1, 0, 1, 0, 0, 0, 0, 0, 1, 0, 1, 1, 0, 0, 1, 1, 0, 1, 1, 0, 0,\n",
       "       1, 1, 1, 0, 0, 0, 0, 0, 1, 0, 1, 1, 0, 0, 1, 1, 1, 0, 1, 0, 1, 1,\n",
       "       0, 1, 0, 0, 1, 0, 0, 0, 1, 0, 0, 0, 0, 0, 1, 1, 0, 0, 0, 1, 0, 0,\n",
       "       0, 1, 0, 0, 1, 0, 1, 0, 0, 0, 1, 1, 0, 0, 0, 0, 1, 0, 0, 1, 1, 1,\n",
       "       0, 0, 0, 0, 0, 1, 0, 0, 0, 0, 0, 0, 1, 1, 0, 0, 0, 0, 1, 0, 0, 0,\n",
       "       0, 0, 1, 0, 0, 0, 0, 0, 0, 1, 0, 0, 0, 0, 0, 0, 0, 1, 0, 1, 1, 1,\n",
       "       0, 0, 1, 0, 0, 0, 0, 0, 0, 1, 0, 0, 0, 0, 0, 1, 0, 0, 0, 1, 0, 0,\n",
       "       0, 1, 1, 0, 0, 0, 0, 0, 0, 1, 0, 1, 0, 1, 1, 0, 0, 0, 0, 0, 1, 0,\n",
       "       0, 0, 0, 0, 1, 0, 1, 1, 0, 0, 0, 0, 0, 0, 1, 0, 0, 0, 0, 1, 1, 1,\n",
       "       0, 0, 1, 0, 0, 0, 0, 1, 0, 0, 0, 0, 0, 0, 0, 1, 0, 1, 0, 1, 0, 1,\n",
       "       0, 1, 0, 1, 0, 0, 0, 1, 1, 1, 0, 0, 0, 1, 1, 0, 0, 0, 0, 1],\n",
       "      dtype=int32)"
      ]
     },
     "execution_count": 35,
     "metadata": {},
     "output_type": "execute_result"
    }
   ],
   "source": [
    "# Generate class predictions for test set\n",
    "y_pred = m1.predict_classes(x_test).flatten() # class predictions in binary\n",
    "y_pred"
   ]
  },
  {
   "cell_type": "code",
   "execution_count": 36,
   "metadata": {
    "ExecuteTime": {
     "end_time": "2020-04-14T20:55:31.226161Z",
     "start_time": "2020-04-14T20:55:31.218550Z"
    }
   },
   "outputs": [],
   "source": [
    "# Build these values into a function for efficiency in next model iterations:\n",
    "\n",
    "def get_preds(x_test,y_test,model=None,**kwargs):\n",
    "    #y_true = (y_test[:, 0] + 0.5).astype(\"int\") # flatten and make integer\n",
    "    #y_hat = model.predict(x_test)[:,0] \n",
    "    \n",
    "    y_true = y_test.flatten()\n",
    "    y_pred = model.predict_classes(x_test).flatten() # class predictions \n",
    "    \n",
    "    \n",
    "    yhat_val = pd.Series(y_pred).value_counts(normalize=False)\n",
    "    yhat_pct = pd.Series(y_pred).value_counts(normalize=True)*100\n",
    "\n",
    "    print(f\"y_hat_vals:\\n {yhat_val}\")\n",
    "    print(\"\\n\")\n",
    "    print(f\"y_pred:\\n {yhat_pct}\")\n",
    "    from sklearn import metrics\n",
    "    from sklearn.metrics import accuracy_score\n",
    "    acc = accuracy_score(y_true, y_pred)\n",
    "    print('\\nAccuracy Score:', acc)\n",
    "\n",
    "    from sklearn.metrics import confusion_matrix\n",
    "\n",
    "    cm = confusion_matrix(y_true, y_pred, labels=[0,1])\n",
    "    print(\"\\nConfusion Matrix\")\n",
    "    display(cm)"
   ]
  },
  {
   "cell_type": "code",
   "execution_count": 37,
   "metadata": {
    "ExecuteTime": {
     "end_time": "2020-04-14T20:55:31.425214Z",
     "start_time": "2020-04-14T20:55:31.228010Z"
    }
   },
   "outputs": [
    {
     "name": "stdout",
     "output_type": "stream",
     "text": [
      "y_hat_vals:\n",
      " 0    382\n",
      "1    188\n",
      "dtype: int64\n",
      "\n",
      "\n",
      "y_pred:\n",
      " 0    67.017544\n",
      "1    32.982456\n",
      "dtype: float64\n",
      "\n",
      "Accuracy Score: 0.6649122807017543\n",
      "\n",
      "Confusion Matrix\n"
     ]
    },
    {
     "data": {
      "text/plain": [
       "array([[378, 187],\n",
       "       [  4,   1]])"
      ]
     },
     "metadata": {},
     "output_type": "display_data"
    }
   ],
   "source": [
    "get_preds(x_test,y_test,model=m1)"
   ]
  },
  {
   "cell_type": "markdown",
   "metadata": {},
   "source": [
    "## Evaluate (M1)\n",
    "\n",
    "Let's assess the model thus far before tuning parameters. We'll create a few helper functions for calculating metrics and analyzing results visually. "
   ]
  },
  {
   "cell_type": "markdown",
   "metadata": {},
   "source": [
    "### Scores"
   ]
  },
  {
   "cell_type": "markdown",
   "metadata": {},
   "source": [
    "### Interpret Scores\n",
    "Not the most promising results. These scores are abysmal, however we are simply working with a baseline and the numbers should (hopefully) improve with some simply tuning of the hyperparameters, specifically with our learning rate and the number of epochs. "
   ]
  },
  {
   "cell_type": "markdown",
   "metadata": {},
   "source": [
    "While 79% is far from optimal, we have to look at some other metrics such as recall and F1 to make a true assessment of the model's accuracy. These other metrics are especially important when working with highly imbalanced classes."
   ]
  },
  {
   "cell_type": "markdown",
   "metadata": {},
   "source": [
    "### Classification Report\n",
    "\n",
    "Sci-kit learn has a nice built-in method for evaluating our model:"
   ]
  },
  {
   "cell_type": "code",
   "execution_count": 38,
   "metadata": {
    "ExecuteTime": {
     "end_time": "2020-04-14T20:55:31.436998Z",
     "start_time": "2020-04-14T20:55:31.426583Z"
    }
   },
   "outputs": [
    {
     "name": "stdout",
     "output_type": "stream",
     "text": [
      "              precision    recall  f1-score   support\n",
      "\n",
      "         0.0       0.99      0.67      0.80       565\n",
      "         1.0       0.01      0.20      0.01         5\n",
      "\n",
      "    accuracy                           0.66       570\n",
      "   macro avg       0.50      0.43      0.40       570\n",
      "weighted avg       0.98      0.66      0.79       570\n",
      "\n"
     ]
    }
   ],
   "source": [
    "from sklearn import metrics\n",
    "from sklearn.metrics import roc_curve, roc_auc_score, accuracy_score, jaccard_score, f1_score, recall_score\n",
    "\n",
    "report = metrics.classification_report(y_test,y_pred)\n",
    "print(report)"
   ]
  },
  {
   "cell_type": "markdown",
   "metadata": {},
   "source": [
    "## History Metrics\n",
    "\n",
    "The baseline model is not meant to give us optimal results - the real test will be in our final model below. First let's take a look at some of the visuals to understand what the scores really mean. This will help us decide how to proceed in tuning the model appropriately."
   ]
  },
  {
   "cell_type": "code",
   "execution_count": 39,
   "metadata": {
    "ExecuteTime": {
     "end_time": "2020-04-14T20:55:31.446972Z",
     "start_time": "2020-04-14T20:55:31.438809Z"
    }
   },
   "outputs": [],
   "source": [
    "def plot_keras_history(history,figsize=(10,4),subplot_kws={}):\n",
    "    if hasattr(history,'history'):\n",
    "        history=history.history\n",
    "    figsize=(10,4)\n",
    "    subplot_kws={}\n",
    "\n",
    "    acc_keys = list(filter(lambda x: 'acc' in x,history.keys()))\n",
    "    loss_keys = list(filter(lambda x: 'loss' in x,history.keys()))\n",
    "\n",
    "    fig,axes=plt.subplots(ncols=2,figsize=figsize,**subplot_kws)\n",
    "    axes = axes.flatten()\n",
    "\n",
    "    y_labels= ['Accuracy','Loss']\n",
    "    for a, metric in enumerate([acc_keys,loss_keys]):\n",
    "        for i in range(len(metric)):\n",
    "            ax = pd.Series(history[metric[i]],\n",
    "                        name=metric[i]).plot(ax=axes[a],label=metric[i])\n",
    "    [ax.legend() for ax in axes]\n",
    "    [ax.xaxis.set_major_locator(mpl.ticker.MaxNLocator(integer=True)) for ax in axes]\n",
    "    [ax.set(xlabel='Epochs') for ax in axes]\n",
    "    plt.suptitle('Model Training Results',y=1.01)\n",
    "    plt.tight_layout()\n",
    "    plt.show()"
   ]
  },
  {
   "cell_type": "code",
   "execution_count": 40,
   "metadata": {
    "ExecuteTime": {
     "end_time": "2020-04-14T20:55:31.960677Z",
     "start_time": "2020-04-14T20:55:31.448535Z"
    }
   },
   "outputs": [
    {
     "data": {
      "image/png": "[encoded data removed]",
      "text/plain": [
       "<Figure size 720x288 with 2 Axes>"
      ]
     },
     "metadata": {
      "needs_background": "light"
     },
     "output_type": "display_data"
    }
   ],
   "source": [
    "# plot convergence\n",
    "plot_keras_history(h1)"
   ]
  },
  {
   "cell_type": "markdown",
   "metadata": {},
   "source": [
    "With only a few epochs, and a small learning rate, it's obvious that our training parameters has room for improvement. This is good - we will definitely need to adjust the learning rate. If that doesn't go far enough in producing desired results, we can also try using a different optimizer such as SGD instead of Adam. For now let's lok at what the predictions actually were in plain terms."
   ]
  },
  {
   "cell_type": "markdown",
   "metadata": {},
   "source": [
    "## Confusion Matrix"
   ]
  },
  {
   "cell_type": "code",
   "execution_count": 41,
   "metadata": {
    "ExecuteTime": {
     "end_time": "2020-04-14T20:55:31.968660Z",
     "start_time": "2020-04-14T20:55:31.962503Z"
    }
   },
   "outputs": [
    {
     "data": {
      "text/plain": [
       "array([[378, 187],\n",
       "       [  4,   1]])"
      ]
     },
     "execution_count": 41,
     "metadata": {},
     "output_type": "execute_result"
    }
   ],
   "source": [
    "# generate a confusion matrix\n",
    "from sklearn.metrics import confusion_matrix\n",
    "\n",
    "cm = confusion_matrix(y_true, y_pred, labels=[0,1])\n",
    "cm"
   ]
  },
  {
   "cell_type": "markdown",
   "metadata": {},
   "source": [
    "As always, it is much easier to interpret these numbers in a plot! Better yet, build a function for the plot for reuse later on:"
   ]
  },
  {
   "cell_type": "code",
   "execution_count": 42,
   "metadata": {
    "ExecuteTime": {
     "end_time": "2020-04-14T20:55:31.978754Z",
     "start_time": "2020-04-14T20:55:31.970339Z"
    }
   },
   "outputs": [],
   "source": [
    "# PLOT Confusion Matrices\n",
    "\n",
    "def plot_confusion_matrix(cm, classes=None,\n",
    "                          normalize=False,\n",
    "                          title='Confusion matrix',cmap=plt.cm.Blues):\n",
    "    \n",
    "    import itertools\n",
    "    # Check if normalize is set to True\n",
    "    # If so, normalize the raw confusion matrix before visualizing\n",
    "    if normalize:\n",
    "        cm = cm.astype('float') / cm.sum(axis=1)[:, np.newaxis]\n",
    "        print(\"Normalized confusion matrix\")\n",
    "    else:\n",
    "        print('Confusion matrix, without normalization')\n",
    "\n",
    "\n",
    "    \n",
    "    fig, ax = plt.subplots(figsize=(10,10))\n",
    "    #mask = np.zeros_like(cm, dtype=np.bool)\n",
    "    #idx = np.triu_indices_from(mask)\n",
    "    \n",
    "    #mask[idx] = True\n",
    "\n",
    "    plt.imshow(cm, cmap=cmap, aspect='equal')\n",
    "    \n",
    "    # Add title and axis labels \n",
    "    plt.title('Confusion Matrix') \n",
    "    plt.ylabel('True label') \n",
    "    plt.xlabel('Predicted label')\n",
    "    \n",
    "    # Add appropriate axis scales\n",
    "    tick_marks = np.arange(len(classes))\n",
    "    plt.xticks(tick_marks, classes, rotation=45)\n",
    "    plt.yticks(tick_marks, classes)\n",
    "    #ax.set_ylim(len(cm), -.5,.5)\n",
    "    \n",
    "    # Text formatting\n",
    "    fmt = '.2f' if normalize else 'd'\n",
    "    # Add labels to each cell\n",
    "    thresh = cm.max() / 2.\n",
    "    # iterate thru matrix and append labels  \n",
    "    for i, j in itertools.product(range(cm.shape[0]), range(cm.shape[1])):\n",
    "        plt.text(j, i, format(cm[i, j], fmt),\n",
    "                 horizontalalignment='center',\n",
    "                 color='darkgray' if cm[i, j] > thresh else 'black',\n",
    "                size=14, weight='bold')\n",
    "    \n",
    "    # Add a legend\n",
    "    plt.colorbar()\n",
    "    plt.show() "
   ]
  },
  {
   "cell_type": "code",
   "execution_count": 43,
   "metadata": {
    "ExecuteTime": {
     "end_time": "2020-04-14T20:55:32.254473Z",
     "start_time": "2020-04-14T20:55:31.980176Z"
    }
   },
   "outputs": [
    {
     "name": "stdout",
     "output_type": "stream",
     "text": [
      "Normalized confusion matrix\n"
     ]
    },
    {
     "data": {
      "image/png": "[encoded data removed]",
      "text/plain": [
       "<Figure size 720x720 with 2 Axes>"
      ]
     },
     "metadata": {
      "needs_background": "light"
     },
     "output_type": "display_data"
    }
   ],
   "source": [
    "# Plot normalized confusion matrix\n",
    "conf1a = plot_confusion_matrix(cm, classes=['No Planet', 'Planet'], normalize=True,\n",
    "                      title='Normalized confusion matrix')\n",
    "conf1a"
   ]
  },
  {
   "cell_type": "code",
   "execution_count": 44,
   "metadata": {
    "ExecuteTime": {
     "end_time": "2020-04-14T20:55:32.491265Z",
     "start_time": "2020-04-14T20:55:32.256145Z"
    }
   },
   "outputs": [
    {
     "name": "stdout",
     "output_type": "stream",
     "text": [
      "Confusion matrix, without normalization\n"
     ]
    },
    {
     "data": {
      "image/png": "[encoded data removed]",
      "text/plain": [
       "<Figure size 720x720 with 2 Axes>"
      ]
     },
     "metadata": {
      "needs_background": "light"
     },
     "output_type": "display_data"
    }
   ],
   "source": [
    "# Plot NON normalized confusion matrix\n",
    "conf1b = plot_confusion_matrix(cm, classes=['No Planet', 'Planet'], normalize=False,\n",
    "                      title='Normalized confusion matrix')\n",
    "conf1b"
   ]
  },
  {
   "cell_type": "markdown",
   "metadata": {},
   "source": [
    "There it is. Our baseline model missed ALL FIVE planets in the test set! It predicted 111 planets in the training set, when we know there were only 37. This is what 80% accuracy gives us. Note the recall score above was 0 - this (as well as F1 and Jaccard, both of which include recall in their calculations) are critical scores for assessing the model. "
   ]
  },
  {
   "cell_type": "markdown",
   "metadata": {},
   "source": [
    "## ROC AUC\n",
    "\n",
    "Plot the ROC area under the curve"
   ]
  },
  {
   "cell_type": "code",
   "execution_count": 45,
   "metadata": {
    "ExecuteTime": {
     "end_time": "2020-04-14T20:55:32.499947Z",
     "start_time": "2020-04-14T20:55:32.493434Z"
    }
   },
   "outputs": [],
   "source": [
    "def roc_plots(y_test, y_hat):\n",
    "    from sklearn import metrics\n",
    "    from sklearn.metrics import roc_curve, roc_auc_score, accuracy_score\n",
    "    y_true = (y_test[:, 0] + 0.5).astype(\"int\")   \n",
    "    fpr, tpr, thresholds = roc_curve(y_true, y_hat) \n",
    "    fpr, tpr, thresholds = roc_curve(y_true, y_hat)\n",
    "\n",
    "    # Threshold Cutoff for predictions\n",
    "    crossover_index = np.min(np.where(1.-fpr <= tpr))\n",
    "    crossover_cutoff = thresholds[crossover_index]\n",
    "    crossover_specificity = 1.-fpr[crossover_index]\n",
    "    #print(\"Crossover at {0:.2f} with specificity {1:.2f}\".format(crossover_cutoff, crossover_specificity))\n",
    "    \n",
    "    plt.plot(thresholds, 1.-fpr)\n",
    "    plt.plot(thresholds, tpr)\n",
    "    plt.title(\"Crossover at {0:.2f} with specificity {1:.2f}\".format(crossover_cutoff, crossover_specificity))\n",
    "\n",
    "    plt.show()\n",
    "\n",
    "\n",
    "    plt.plot(fpr, tpr)\n",
    "    plt.title(\"ROC area under curve is {0:.2f}\".format(roc_auc_score(y_true, y_hat)))\n",
    "    plt.show()\n",
    "    \n",
    "    score = roc_auc_score(y_true,y_hat)\n",
    "    print(\"ROC_AUC SCORE:\",score)\n",
    "    #print(\"ROC area under curve is {0:.2f}\".format(roc_auc_score(y_true, y_hat)))"
   ]
  },
  {
   "cell_type": "code",
   "execution_count": 46,
   "metadata": {
    "ExecuteTime": {
     "end_time": "2020-04-14T20:55:33.039268Z",
     "start_time": "2020-04-14T20:55:32.501568Z"
    }
   },
   "outputs": [
    {
     "data": {
      "image/png": "[encoded data removed]",
      "text/plain": [
       "<Figure size 432x288 with 1 Axes>"
      ]
     },
     "metadata": {
      "needs_background": "light"
     },
     "output_type": "display_data"
    },
    {
     "data": {
      "image/png": "[encoded data removed]",
      "text/plain": [
       "<Figure size 432x288 with 1 Axes>"
      ]
     },
     "metadata": {
      "needs_background": "light"
     },
     "output_type": "display_data"
    },
    {
     "name": "stdout",
     "output_type": "stream",
     "text": [
      "ROC_AUC SCORE: 0.5376991150442478\n"
     ]
    }
   ],
   "source": [
    "# This \n",
    "roc_plots(y_test, y_hat)"
   ]
  },
  {
   "cell_type": "markdown",
   "metadata": {},
   "source": [
    "# `Model 2`\n",
    "\n",
    "Revising the function for training the model and tuning just two parameters: adjust learning rate to 4e-3, and increase epochs to 40. "
   ]
  },
  {
   "cell_type": "markdown",
   "metadata": {},
   "source": [
    "## Tuning Parameters\n",
    "\n",
    "This time we will create dictionaries for plugging in parameters to the model. We could do a grid search, or more likely, a randomsearch from sklearn to find the optimal parameters, but for now let's finish building the function to take in the parameter dictionaries with an adjusted learning rate."
   ]
  },
  {
   "cell_type": "code",
   "execution_count": 47,
   "metadata": {
    "ExecuteTime": {
     "end_time": "2020-04-14T20:55:33.409297Z",
     "start_time": "2020-04-14T20:55:33.040682Z"
    }
   },
   "outputs": [],
   "source": [
    "# set our build function to use the baseline model we built initially\n",
    "keras_train = keras_1D(model=Sequential(), kernel_size=11, activation='relu', \n",
    "                           input_shape=x_train.shape[1:], strides=4)"
   ]
  },
  {
   "cell_type": "code",
   "execution_count": 48,
   "metadata": {
    "ExecuteTime": {
     "end_time": "2020-04-14T20:55:33.414172Z",
     "start_time": "2020-04-14T20:55:33.410836Z"
    }
   },
   "outputs": [],
   "source": [
    "# create params dict for compiling model\n",
    "# adjust learning rate to 4e-3\n",
    "\n",
    "compiler = dict(optimizer=Adam,\n",
    "                learning_rate=4e-3,\n",
    "                loss='binary_crossentropy',\n",
    "                metrics=['accuracy'])\n",
    "\n",
    "# create dict for fit_generator parameters\n",
    "# increase verbose to 2 and number of epochs to 40\n",
    "\n",
    "params = dict(validation_data = (x_test, y_test), \n",
    "              verbose=2, \n",
    "              epochs=40, \n",
    "              steps_per_epoch=(x_train.shape[1]//32))"
   ]
  },
  {
   "cell_type": "markdown",
   "metadata": {},
   "source": [
    "## Compile/Fit (M2)"
   ]
  },
  {
   "cell_type": "code",
   "execution_count": 49,
   "metadata": {
    "ExecuteTime": {
     "end_time": "2020-04-14T20:59:30.934729Z",
     "start_time": "2020-04-14T20:55:33.415583Z"
    }
   },
   "outputs": [
    {
     "name": "stdout",
     "output_type": "stream",
     "text": [
      "Epoch 1/40\n",
      " - 6s - loss: 0.6250 - accuracy: 0.6559 - val_loss: 0.8893 - val_accuracy: 0.2228\n",
      "Epoch 2/40\n",
      " - 5s - loss: 0.4682 - accuracy: 0.7891 - val_loss: 0.8316 - val_accuracy: 0.5035\n",
      "Epoch 3/40\n",
      " - 5s - loss: 0.2347 - accuracy: 0.9201 - val_loss: 0.5103 - val_accuracy: 0.8088\n",
      "Epoch 4/40\n",
      " - 5s - loss: 0.1647 - accuracy: 0.9426 - val_loss: 0.1592 - val_accuracy: 0.9579\n",
      "Epoch 5/40\n",
      " - 6s - loss: 0.1119 - accuracy: 0.9669 - val_loss: 0.2271 - val_accuracy: 0.9649\n",
      "Epoch 6/40\n",
      " - 7s - loss: 0.0707 - accuracy: 0.9782 - val_loss: 0.0656 - val_accuracy: 0.9947\n",
      "Epoch 7/40\n",
      " - 8s - loss: 0.0765 - accuracy: 0.9732 - val_loss: 0.0592 - val_accuracy: 0.9895\n",
      "Epoch 8/40\n",
      " - 9s - loss: 0.0632 - accuracy: 0.9795 - val_loss: 0.0507 - val_accuracy: 0.9965\n",
      "Epoch 9/40\n",
      " - 9s - loss: 0.0543 - accuracy: 0.9845 - val_loss: 0.0639 - val_accuracy: 0.9877\n",
      "Epoch 10/40\n",
      " - 9s - loss: 0.0563 - accuracy: 0.9817 - val_loss: 0.0651 - val_accuracy: 0.9877\n",
      "Epoch 11/40\n",
      " - 7s - loss: 0.0416 - accuracy: 0.9864 - val_loss: 0.0412 - val_accuracy: 0.9930\n",
      "Epoch 12/40\n",
      " - 7s - loss: 0.0540 - accuracy: 0.9855 - val_loss: 0.0646 - val_accuracy: 0.9930\n",
      "Epoch 13/40\n",
      " - 6s - loss: 0.0595 - accuracy: 0.9839 - val_loss: 0.0883 - val_accuracy: 0.9719\n",
      "Epoch 14/40\n",
      " - 6s - loss: 0.0312 - accuracy: 0.9890 - val_loss: 0.0582 - val_accuracy: 0.9947\n",
      "Epoch 15/40\n",
      " - 6s - loss: 0.0496 - accuracy: 0.9880 - val_loss: 0.0321 - val_accuracy: 0.9930\n",
      "Epoch 16/40\n",
      " - 6s - loss: 0.0386 - accuracy: 0.9890 - val_loss: 0.0772 - val_accuracy: 0.9772\n",
      "Epoch 17/40\n",
      " - 5s - loss: 0.0582 - accuracy: 0.9817 - val_loss: 0.0514 - val_accuracy: 0.9877\n",
      "Epoch 18/40\n",
      " - 5s - loss: 0.0401 - accuracy: 0.9877 - val_loss: 0.0490 - val_accuracy: 0.9895\n",
      "Epoch 19/40\n",
      " - 6s - loss: 0.0352 - accuracy: 0.9874 - val_loss: 0.0412 - val_accuracy: 0.9965\n",
      "Epoch 20/40\n",
      " - 6s - loss: 0.0361 - accuracy: 0.9899 - val_loss: 0.0111 - val_accuracy: 0.9930\n",
      "Epoch 21/40\n",
      " - 6s - loss: 0.0209 - accuracy: 0.9927 - val_loss: 0.0720 - val_accuracy: 0.9912\n",
      "Epoch 22/40\n",
      " - 6s - loss: 0.0334 - accuracy: 0.9915 - val_loss: 0.0622 - val_accuracy: 0.9930\n",
      "Epoch 23/40\n",
      " - 6s - loss: 0.0345 - accuracy: 0.9908 - val_loss: 0.0130 - val_accuracy: 0.9982\n",
      "Epoch 24/40\n",
      " - 6s - loss: 0.0307 - accuracy: 0.9886 - val_loss: 0.0457 - val_accuracy: 0.9912\n",
      "Epoch 25/40\n",
      " - 6s - loss: 0.0343 - accuracy: 0.9867 - val_loss: 0.0371 - val_accuracy: 0.9912\n",
      "Epoch 26/40\n",
      " - 6s - loss: 0.0372 - accuracy: 0.9880 - val_loss: 0.1481 - val_accuracy: 0.9649\n",
      "Epoch 27/40\n",
      " - 6s - loss: 0.0376 - accuracy: 0.9902 - val_loss: 0.0196 - val_accuracy: 0.9912\n",
      "Epoch 28/40\n",
      " - 6s - loss: 0.0220 - accuracy: 0.9937 - val_loss: 0.0183 - val_accuracy: 0.9947\n",
      "Epoch 29/40\n",
      " - 6s - loss: 0.0179 - accuracy: 0.9940 - val_loss: 0.0018 - val_accuracy: 1.0000\n",
      "Epoch 30/40\n",
      " - 6s - loss: 0.0330 - accuracy: 0.9905 - val_loss: 0.0118 - val_accuracy: 0.9965\n",
      "Epoch 31/40\n",
      " - 6s - loss: 0.0244 - accuracy: 0.9905 - val_loss: 0.0481 - val_accuracy: 0.9877\n",
      "Epoch 32/40\n",
      " - 5s - loss: 0.0333 - accuracy: 0.9890 - val_loss: 0.0106 - val_accuracy: 0.9965\n",
      "Epoch 33/40\n",
      " - 5s - loss: 0.0383 - accuracy: 0.9883 - val_loss: 0.0705 - val_accuracy: 0.9807\n",
      "Epoch 34/40\n",
      " - 5s - loss: 0.0443 - accuracy: 0.9883 - val_loss: 0.0289 - val_accuracy: 0.9877\n",
      "Epoch 35/40\n",
      " - 5s - loss: 0.0358 - accuracy: 0.9896 - val_loss: 0.0232 - val_accuracy: 0.9930\n",
      "Epoch 36/40\n",
      " - 5s - loss: 0.0263 - accuracy: 0.9921 - val_loss: 0.0703 - val_accuracy: 0.9930\n",
      "Epoch 37/40\n",
      " - 5s - loss: 0.0449 - accuracy: 0.9852 - val_loss: 0.0244 - val_accuracy: 0.9947\n",
      "Epoch 38/40\n",
      " - 5s - loss: 0.0239 - accuracy: 0.9921 - val_loss: 0.0347 - val_accuracy: 0.9877\n",
      "Epoch 39/40\n",
      " - 5s - loss: 0.0356 - accuracy: 0.9893 - val_loss: 0.0134 - val_accuracy: 0.9947\n",
      "Epoch 40/40\n",
      " - 5s - loss: 0.0299 - accuracy: 0.9861 - val_loss: 0.0338 - val_accuracy: 0.9877\n"
     ]
    }
   ],
   "source": [
    "# MODEL 2\n",
    "# using the baseline model as our build model function\n",
    "\n",
    "m2, h2 = scikit_keras(build_fn=keras_train, compiler=compiler, params=params)"
   ]
  },
  {
   "cell_type": "markdown",
   "metadata": {},
   "source": [
    "## Summary (M2)"
   ]
  },
  {
   "cell_type": "code",
   "execution_count": 50,
   "metadata": {
    "ExecuteTime": {
     "end_time": "2020-04-14T20:59:30.945133Z",
     "start_time": "2020-04-14T20:59:30.936866Z"
    }
   },
   "outputs": [
    {
     "name": "stdout",
     "output_type": "stream",
     "text": [
      "Model: \"sequential_2\"\n",
      "_________________________________________________________________\n",
      "Layer (type)                 Output Shape              Param #   \n",
      "=================================================================\n",
      "conv1d_1 (Conv1D)            (None, 3187, 8)           184       \n",
      "_________________________________________________________________\n",
      "max_pooling1d_1 (MaxPooling1 (None, 797, 8)            0         \n",
      "_________________________________________________________________\n",
      "batch_normalization_1 (Batch (None, 797, 8)            32        \n",
      "_________________________________________________________________\n",
      "conv1d_2 (Conv1D)            (None, 787, 16)           1424      \n",
      "_________________________________________________________________\n",
      "max_pooling1d_2 (MaxPooling1 (None, 197, 16)           0         \n",
      "_________________________________________________________________\n",
      "batch_normalization_2 (Batch (None, 197, 16)           64        \n",
      "_________________________________________________________________\n",
      "conv1d_3 (Conv1D)            (None, 187, 32)           5664      \n",
      "_________________________________________________________________\n",
      "max_pooling1d_3 (MaxPooling1 (None, 47, 32)            0         \n",
      "_________________________________________________________________\n",
      "batch_normalization_3 (Batch (None, 47, 32)            128       \n",
      "_________________________________________________________________\n",
      "conv1d_4 (Conv1D)            (None, 37, 64)            22592     \n",
      "_________________________________________________________________\n",
      "max_pooling1d_4 (MaxPooling1 (None, 9, 64)             0         \n",
      "_________________________________________________________________\n",
      "flatten_1 (Flatten)          (None, 576)               0         \n",
      "_________________________________________________________________\n",
      "dropout_1 (Dropout)          (None, 576)               0         \n",
      "_________________________________________________________________\n",
      "dense_1 (Dense)              (None, 64)                36928     \n",
      "_________________________________________________________________\n",
      "dropout_2 (Dropout)          (None, 64)                0         \n",
      "_________________________________________________________________\n",
      "dense_2 (Dense)              (None, 64)                4160      \n",
      "_________________________________________________________________\n",
      "dense_3 (Dense)              (None, 1)                 65        \n",
      "=================================================================\n",
      "Total params: 71,241\n",
      "Trainable params: 71,129\n",
      "Non-trainable params: 112\n",
      "_________________________________________________________________\n"
     ]
    }
   ],
   "source": [
    "model.summary()"
   ]
  },
  {
   "cell_type": "markdown",
   "metadata": {},
   "source": [
    "## Class Predictions\n",
    "\n",
    "We then use our trained neural network to classify the test set:"
   ]
  },
  {
   "cell_type": "code",
   "execution_count": 51,
   "metadata": {
    "ExecuteTime": {
     "end_time": "2020-04-14T20:59:31.153641Z",
     "start_time": "2020-04-14T20:59:30.946776Z"
    }
   },
   "outputs": [],
   "source": [
    "y_pred = model.predict_classes(x_test).flatten()"
   ]
  },
  {
   "cell_type": "code",
   "execution_count": 52,
   "metadata": {
    "ExecuteTime": {
     "end_time": "2020-04-14T20:59:31.161414Z",
     "start_time": "2020-04-14T20:59:31.155210Z"
    }
   },
   "outputs": [
    {
     "data": {
      "text/plain": [
       "array([0, 0, 1, 0, 0, 0, 0, 0, 0, 1, 1, 0, 0, 0, 0, 0, 0, 0, 0, 0, 1, 1,\n",
       "       0, 0, 0, 1, 0, 0, 0, 0, 1, 0, 0, 0, 0, 0, 0, 1, 0, 1, 0, 0, 1, 0,\n",
       "       1, 0, 1, 0, 0, 0, 1, 1, 1, 1, 0, 0, 1, 1, 0, 1, 0, 1, 1, 0, 0, 0,\n",
       "       1, 0, 0, 0, 1, 1, 0, 1, 0, 1, 0, 1, 1, 1, 0, 0, 1, 1, 1, 0, 1, 1,\n",
       "       0, 1, 0, 0, 0, 0, 0, 0, 0, 0, 1, 0, 0, 0, 0, 1, 1, 0, 0, 0, 1, 1,\n",
       "       0, 0, 0, 0, 0, 0, 0, 1, 0, 0, 1, 0, 0, 0, 1, 1, 1, 0, 1, 0, 0, 0,\n",
       "       0, 0, 0, 0, 1, 1, 1, 1, 0, 1, 1, 0, 0, 0, 0, 1, 1, 0, 0, 1, 1, 0,\n",
       "       0, 0, 0, 0, 0, 1, 0, 1, 0, 0, 1, 0, 0, 0, 1, 0, 0, 0, 1, 1, 0, 1,\n",
       "       0, 0, 1, 0, 0, 0, 0, 1, 0, 0, 0, 0, 1, 1, 0, 0, 0, 1, 0, 0, 0, 0,\n",
       "       0, 1, 0, 1, 0, 0, 0, 1, 1, 1, 0, 0, 0, 0, 0, 0, 1, 0, 0, 0, 0, 0,\n",
       "       1, 0, 0, 0, 0, 1, 0, 1, 0, 0, 1, 0, 0, 0, 0, 0, 1, 0, 1, 0, 1, 0,\n",
       "       0, 0, 0, 0, 0, 1, 0, 0, 0, 1, 0, 0, 0, 0, 0, 0, 1, 0, 1, 0, 1, 1,\n",
       "       1, 0, 0, 0, 0, 0, 0, 0, 1, 0, 0, 0, 1, 1, 0, 0, 1, 1, 0, 0, 0, 0,\n",
       "       0, 0, 0, 0, 0, 1, 0, 1, 1, 0, 0, 0, 1, 1, 1, 1, 1, 0, 1, 0, 0, 0,\n",
       "       0, 0, 0, 0, 0, 0, 1, 0, 0, 1, 0, 1, 0, 0, 1, 1, 0, 1, 1, 0, 0, 1,\n",
       "       0, 1, 0, 1, 0, 0, 0, 0, 0, 1, 0, 1, 1, 0, 0, 1, 1, 0, 1, 1, 0, 0,\n",
       "       1, 1, 1, 0, 0, 0, 0, 0, 1, 0, 1, 1, 0, 0, 1, 1, 1, 0, 1, 0, 1, 1,\n",
       "       0, 1, 0, 0, 1, 0, 0, 0, 1, 0, 0, 0, 0, 0, 1, 1, 0, 0, 0, 1, 0, 0,\n",
       "       0, 1, 0, 0, 1, 0, 1, 0, 0, 0, 1, 1, 0, 0, 0, 0, 1, 0, 0, 1, 1, 1,\n",
       "       0, 0, 0, 0, 0, 1, 0, 0, 0, 0, 0, 0, 1, 1, 0, 0, 0, 0, 1, 0, 0, 0,\n",
       "       0, 0, 1, 0, 0, 0, 0, 0, 0, 1, 0, 0, 0, 0, 0, 0, 0, 1, 0, 1, 1, 1,\n",
       "       0, 0, 1, 0, 0, 0, 0, 0, 0, 1, 0, 0, 0, 0, 0, 1, 0, 0, 0, 1, 0, 0,\n",
       "       0, 1, 1, 0, 0, 0, 0, 0, 0, 1, 0, 1, 0, 1, 1, 0, 0, 0, 0, 0, 1, 0,\n",
       "       0, 0, 0, 0, 1, 0, 1, 1, 0, 0, 0, 0, 0, 0, 1, 0, 0, 0, 0, 1, 1, 1,\n",
       "       0, 0, 1, 0, 0, 0, 0, 1, 0, 0, 0, 0, 0, 0, 0, 1, 0, 1, 0, 1, 0, 1,\n",
       "       0, 1, 0, 1, 0, 0, 0, 1, 1, 1, 0, 0, 0, 1, 1, 0, 0, 0, 0, 1],\n",
       "      dtype=int32)"
      ]
     },
     "execution_count": 52,
     "metadata": {},
     "output_type": "execute_result"
    }
   ],
   "source": [
    "y_pred"
   ]
  },
  {
   "cell_type": "markdown",
   "metadata": {},
   "source": [
    "## Validation\n",
    "\n",
    "Evaluate our model using the same helper functions as before, this time embedded into one single function to handle all the work."
   ]
  },
  {
   "cell_type": "code",
   "execution_count": 53,
   "metadata": {
    "ExecuteTime": {
     "end_time": "2020-04-14T20:59:31.171334Z",
     "start_time": "2020-04-14T20:59:31.163700Z"
    }
   },
   "outputs": [
    {
     "data": {
      "text/plain": [
       "array([[378, 187],\n",
       "       [  4,   1]])"
      ]
     },
     "execution_count": 53,
     "metadata": {},
     "output_type": "execute_result"
    }
   ],
   "source": [
    "cm = confusion_matrix(y_test, y_pred, labels=[0,1])\n",
    "cm"
   ]
  },
  {
   "cell_type": "code",
   "execution_count": 54,
   "metadata": {
    "ExecuteTime": {
     "end_time": "2020-04-14T20:59:31.183242Z",
     "start_time": "2020-04-14T20:59:31.172910Z"
    }
   },
   "outputs": [],
   "source": [
    "def evaluate_model(x_test, y_test, history=None):\n",
    "    \n",
    "    # make predictons using test set\n",
    "    y_true = (y_test[:, 0] + 0.5).astype(\"int\") # flatten and make integer\n",
    "    y_hat = model.predict(x_test)[:,0] \n",
    "    y_pred = model.predict_classes(x_test).flatten() # class predictions \n",
    "    \n",
    "    \n",
    "    #Plot Model Training Results (PLOT KERAS HISTORY)\n",
    "    from sklearn import metrics\n",
    "    if y_true.ndim>1:\n",
    "        y_true = y_true.argmax(axis=1)\n",
    "    if y_pred.ndim>1:\n",
    "        y_pred = y_pred.argmax(axis=1)   \n",
    "    try:    \n",
    "        if history is not None:\n",
    "            plot_keras_history(history)\n",
    "    except:\n",
    "        pass\n",
    "    \n",
    "    # Print CLASSIFICATION REPORT\n",
    "    num_dashes=20\n",
    "    print('\\n')\n",
    "    print('---'*num_dashes)\n",
    "    print('\\tCLASSIFICATION REPORT:')\n",
    "    print('---'*num_dashes)\n",
    "#     try:\n",
    "#         print(metrics.classification_report(y_true,y_pred))\n",
    "         #fig = plot_confusion_matrix((y_true,y_pred))\n",
    "#     except Exception as e:\n",
    "#         print(f\"[!] Error during model evaluation:\\n\\t{e}\")\n",
    "\n",
    "    from sklearn import metrics\n",
    "    report = metrics.classification_report(y_true,y_pred)\n",
    "    print(report)\n",
    "    \n",
    "    # Adding additional metrics not in sklearn's report   \n",
    "    from sklearn.metrics import jaccard_score\n",
    "    jaccard = jaccard_score(y_test, y_hat_test)\n",
    "    print('Jaccard Similarity Score:',jaccard)\n",
    "    \n",
    "    \n",
    "    # CONFUSION MATRIX\n",
    "    from sklearn.metrics import confusion_matrix\n",
    "    cm = confusion_matrix(y_true, y_pred, labels=[0,1])\n",
    "    # Plot normalized confusion matrix\n",
    "    fig = plot_confusion_matrix(cm, classes=['No Planet', 'Planet'], \n",
    "                                normalize=False,                               \n",
    "                                title='Normalized confusion matrix')\n",
    "    plt.show()\n",
    "\n",
    "    \n",
    "    # ROC Area Under Curve\n",
    "    roc_plots(y_test, y_hat_test)\n",
    "    "
   ]
  },
  {
   "cell_type": "code",
   "execution_count": 55,
   "metadata": {
    "ExecuteTime": {
     "end_time": "2020-04-14T20:59:32.541932Z",
     "start_time": "2020-04-14T20:59:31.184731Z"
    }
   },
   "outputs": [
    {
     "data": {
      "image/png": "[encoded data removed]",
      "text/plain": [
       "<Figure size 720x288 with 2 Axes>"
      ]
     },
     "metadata": {
      "needs_background": "light"
     },
     "output_type": "display_data"
    },
    {
     "name": "stdout",
     "output_type": "stream",
     "text": [
      "\n",
      "\n",
      "------------------------------------------------------------\n",
      "\tCLASSIFICATION REPORT:\n",
      "------------------------------------------------------------\n",
      "              precision    recall  f1-score   support\n",
      "\n",
      "           0       0.99      0.67      0.80       565\n",
      "           1       0.01      0.20      0.01         5\n",
      "\n",
      "    accuracy                           0.66       570\n",
      "   macro avg       0.50      0.43      0.40       570\n",
      "weighted avg       0.98      0.66      0.79       570\n",
      "\n"
     ]
    },
    {
     "ename": "NameError",
     "evalue": "name 'y_hat_test' is not defined",
     "output_type": "error",
     "traceback": [
      "\u001b[0;31m---------------------------------------------------------------------------\u001b[0m",
      "\u001b[0;31mNameError\u001b[0m                                 Traceback (most recent call last)",
      "\u001b[0;32m<ipython-input-55-4c8e3d50570b>\u001b[0m in \u001b[0;36m<module>\u001b[0;34m\u001b[0m\n\u001b[0;32m----> 1\u001b[0;31m \u001b[0mevaluate_model\u001b[0m\u001b[0;34m(\u001b[0m\u001b[0mx_test\u001b[0m\u001b[0;34m,\u001b[0m \u001b[0my_test\u001b[0m\u001b[0;34m,\u001b[0m \u001b[0mh2\u001b[0m\u001b[0;34m)\u001b[0m\u001b[0;34m\u001b[0m\u001b[0;34m\u001b[0m\u001b[0m\n\u001b[0m",
      "\u001b[0;32m<ipython-input-54-74e77a9581bd>\u001b[0m in \u001b[0;36mevaluate_model\u001b[0;34m(x_test, y_test, history)\u001b[0m\n\u001b[1;32m     37\u001b[0m     \u001b[0;31m# Adding additional metrics not in sklearn's report\u001b[0m\u001b[0;34m\u001b[0m\u001b[0;34m\u001b[0m\u001b[0;34m\u001b[0m\u001b[0m\n\u001b[1;32m     38\u001b[0m     \u001b[0;32mfrom\u001b[0m \u001b[0msklearn\u001b[0m\u001b[0;34m.\u001b[0m\u001b[0mmetrics\u001b[0m \u001b[0;32mimport\u001b[0m \u001b[0mjaccard_score\u001b[0m\u001b[0;34m\u001b[0m\u001b[0;34m\u001b[0m\u001b[0m\n\u001b[0;32m---> 39\u001b[0;31m     \u001b[0mjaccard\u001b[0m \u001b[0;34m=\u001b[0m \u001b[0mjaccard_score\u001b[0m\u001b[0;34m(\u001b[0m\u001b[0my_test\u001b[0m\u001b[0;34m,\u001b[0m \u001b[0my_hat_test\u001b[0m\u001b[0;34m)\u001b[0m\u001b[0;34m\u001b[0m\u001b[0;34m\u001b[0m\u001b[0m\n\u001b[0m\u001b[1;32m     40\u001b[0m     \u001b[0mprint\u001b[0m\u001b[0;34m(\u001b[0m\u001b[0;34m'Jaccard Similarity Score:'\u001b[0m\u001b[0;34m,\u001b[0m\u001b[0mjaccard\u001b[0m\u001b[0;34m)\u001b[0m\u001b[0;34m\u001b[0m\u001b[0;34m\u001b[0m\u001b[0m\n\u001b[1;32m     41\u001b[0m \u001b[0;34m\u001b[0m\u001b[0m\n",
      "\u001b[0;31mNameError\u001b[0m: name 'y_hat_test' is not defined"
     ]
    }
   ],
   "source": [
    "evaluate_model(x_test, y_test, h2)"
   ]
  },
  {
   "cell_type": "markdown",
   "metadata": {},
   "source": [
    "# `MODEL 3`\n",
    "\n",
    "Another optimizer we can try is SGD instead of Adam - this may produce better outcomes. We will also adjust the learning rate."
   ]
  },
  {
   "cell_type": "code",
   "execution_count": null,
   "metadata": {
    "ExecuteTime": {
     "end_time": "2020-04-14T20:59:32.543704Z",
     "start_time": "2020-04-14T20:54:41.769Z"
    }
   },
   "outputs": [],
   "source": [
    "from keras.optimizers import SGD"
   ]
  },
  {
   "cell_type": "code",
   "execution_count": null,
   "metadata": {
    "ExecuteTime": {
     "end_time": "2020-04-14T20:59:32.544868Z",
     "start_time": "2020-04-14T20:54:41.772Z"
    }
   },
   "outputs": [],
   "source": [
    "# create params dict for compiling model\n",
    "# adjust learning rate to 4e-3\n",
    "\n",
    "compiler = dict(optimizer=SGD,\n",
    "                learning_rate=4e-2,\n",
    "                loss='binary_crossentropy',\n",
    "                metrics=['accuracy'])\n",
    "\n",
    "# create dict for fit_generator parameters\n",
    "# increase verbose to 2 and number of epochs to 40\n",
    "\n",
    "params = dict(validation_data = (x_test, y_test), \n",
    "              verbose=2, \n",
    "              epochs=40, \n",
    "              steps_per_epoch=(x_train.shape[1]//32))"
   ]
  },
  {
   "cell_type": "code",
   "execution_count": null,
   "metadata": {
    "ExecuteTime": {
     "end_time": "2020-04-14T20:59:32.546449Z",
     "start_time": "2020-04-14T20:54:41.775Z"
    }
   },
   "outputs": [],
   "source": [
    "# MODEL 3: using the baseline model as our build model function\n",
    "\n",
    "m3, h3 = scikit_keras(build_fn=keras_train, compiler=compiler, params=params)"
   ]
  },
  {
   "cell_type": "code",
   "execution_count": null,
   "metadata": {
    "ExecuteTime": {
     "end_time": "2020-04-14T20:59:32.547520Z",
     "start_time": "2020-04-14T20:54:41.777Z"
    }
   },
   "outputs": [],
   "source": [
    "cm = confusion_matrix(y_true, y_pred, labels=[0,1])\n",
    "cm"
   ]
  },
  {
   "cell_type": "code",
   "execution_count": null,
   "metadata": {
    "ExecuteTime": {
     "end_time": "2020-04-14T20:59:32.548369Z",
     "start_time": "2020-04-14T20:54:41.780Z"
    }
   },
   "outputs": [],
   "source": [
    "evaluate_model(x_test, y_test, h3)"
   ]
  },
  {
   "cell_type": "markdown",
   "metadata": {},
   "source": [
    "# `MODEL 4`"
   ]
  },
  {
   "cell_type": "code",
   "execution_count": null,
   "metadata": {
    "ExecuteTime": {
     "end_time": "2020-04-14T20:59:32.549934Z",
     "start_time": "2020-04-14T20:54:41.784Z"
    }
   },
   "outputs": [],
   "source": [
    "# create params dict for compiling model\n",
    "# adjust learning rate to 4e-3\n",
    "\n",
    "compiler = dict(optimizer=SGD,\n",
    "                learning_rate=4e-2,\n",
    "                loss='binary_crossentropy',\n",
    "                metrics=['accuracy'])\n",
    "\n",
    "# create dict for fit_generator parameters\n",
    "# increase verbose to 2 and number of epochs to 40\n",
    "\n",
    "params = dict(validation_data = (x_test, y_test), \n",
    "              verbose=2, \n",
    "              epochs=40, \n",
    "              steps_per_epoch=(x_train.shape[1]/23))\n",
    "\n",
    "# MODEL 4\n",
    "# using the baseline model as our build model function\n",
    "\n",
    "m4, h4 = scikit_keras(build_fn=keras_train, compiler=compiler, params=params, \n",
    "                      batch_size=23)"
   ]
  },
  {
   "cell_type": "markdown",
   "metadata": {},
   "source": [
    "# Interpret Results"
   ]
  },
  {
   "cell_type": "markdown",
   "metadata": {},
   "source": [
    "## Conclusion\n",
    "\n",
    "Above, we were able to identify with 99% accuracy 3 of 5 stars that have an exoplanet in their orbit. "
   ]
  },
  {
   "cell_type": "markdown",
   "metadata": {},
   "source": [
    "# Recommendations\n",
    "\n",
    "While it is possible to create a fairly accurate model for detecting exoplanets using the raw flux values of an imbalanced data set (imbalanced meaning only a few positive examples in a sea of negatives) - it is clear that important information is misclassified. When it comes to astrophysics, we need to be much more accurate than this, and we need to feel like the model is fully reliable. I cannot conclude that this model is adequately reliable for performing an accurate analysis on this type of data.\n",
    "\n",
    "My recommendations are the following:\n",
    "\n",
    "   1. Use datasets from the MAST website (via API) to incorporate other calculations of the star's properties as features to be used for classification algorithms. Furthermore, attempt other types of transformations and normalizations on the data before running the model - for instance, apply a Fourier transform.\n",
    "\n",
    "   2. Combine data from multiple campaigns and perhaps even multiple telescopes (for instance, matching sky coordinates and time intervals between K2, Kepler, and TESS for a batch of stars that have overlapping observations - this would be critical for finding transit periods that are longer than the campaigns of a single telecope's observation period).\n",
    "\n",
    "   3. Explore using computer vision on not only the Full Frame images we can collect from telescopes like TESS, but also on spectographs of the flux values themselves. The beauty of machine learning is our ability to rely on the computer to pick up very small nuances in differences that we ourselves cannot see with our own eyes. \n",
    "   \n",
    "   4. Explore using autoencoded machine learning algorithms with Restricted Boltzmann Machines - this type of model has proven to be incredibly effective in the image analysis of handwriting as we've seen applied the MNIST dataset - let's find out if the same is true for images of stars, be they the Full Frame Images or spectographs."
   ]
  },
  {
   "cell_type": "markdown",
   "metadata": {},
   "source": [
    "# Future Work\n",
    "\n",
    "To continue this project, I'll take another approach for detecting exoplanets using computer vision to analyze images of spectographs of this same star flux data set. Please go to the notebook `[starskøpe-2]` to see how I use a Restricted Boltzmann Machines neural network model to classify stars as exoplanet hosts using spectograph images of the flux values to find transiting exoplanets. Following this, I will apply the same algorithm to spectographs of Fourier transformed data, as you will see in `[starskøpe-3]`. \n",
    "\n",
    "Additional future work following this project will be to develop my \"cyberoptic artificial telescope\" as a machine learning driven application that any astrophysicist can use to look at a single or collection of stars and have the model classify them according not only to exoplanet predictions, but also predict what type of star it is, and other key properties that would be of interest for astrophysical science applications.\n"
   ]
  }
 ],
 "metadata": {
  "file_extension": ".py",
  "kernelspec": {
   "display_name": "learn-env",
   "language": "python",
   "name": "learn-env"
  },
  "language_info": {
   "codemirror_mode": {
    "name": "ipython",
    "version": 3
   },
   "file_extension": ".py",
   "mimetype": "text/x-python",
   "name": "python",
   "nbconvert_exporter": "python",
   "pygments_lexer": "ipython3",
   "version": "3.6.9"
  },
  "latex_envs": {
   "LaTeX_envs_menu_present": true,
   "autoclose": false,
   "autocomplete": true,
   "bibliofile": "biblio.bib",
   "cite_by": "apalike",
   "current_citInitial": 1,
   "eqLabelWithNumbers": true,
   "eqNumInitial": 1,
   "hotkeys": {
    "equation": "Ctrl-E",
    "itemize": "Ctrl-I"
   },
   "labels_anchors": false,
   "latex_user_defs": false,
   "report_style_numbering": false,
   "user_envs_cfg": false
  },
  "mimetype": "text/x-python",
  "name": "python",
  "npconvert_exporter": "python",
  "pygments_lexer": "ipython3",
  "toc": {
   "base_numbering": 1,
   "nav_menu": {},
   "number_sections": false,
   "sideBar": true,
   "skip_h1_title": false,
   "title_cell": "Table of Contents",
   "title_sidebar": "Contents",
   "toc_cell": false,
   "toc_position": {
    "height": "766px",
    "left": "65px",
    "top": "110px",
    "width": "209.797px"
   },
   "toc_section_display": true,
   "toc_window_display": true
  },
  "varInspector": {
   "cols": {
    "lenName": 16,
    "lenType": 16,
    "lenVar": 40
   },
   "kernels_config": {
    "python": {
     "delete_cmd_postfix": "",
     "delete_cmd_prefix": "del ",
     "library": "var_list.py",
     "varRefreshCmd": "print(var_dic_list())"
    },
    "r": {
     "delete_cmd_postfix": ") ",
     "delete_cmd_prefix": "rm(",
     "library": "var_list.r",
     "varRefreshCmd": "cat(var_dic_list()) "
    }
   },
   "types_to_exclude": [
    "module",
    "function",
    "builtin_function_or_method",
    "instance",
    "_Feature"
   ],
   "window_display": false
  },
  "version": 3
 },
 "nbformat": 4,
 "nbformat_minor": 2
}
