{
 "cells": [
  {
   "cell_type": "markdown",
   "metadata": {},
   "source": [
    "# [$\\phi$] `STARSKØPE`\n",
    "\n",
    "<pre><i class=\"fa fa-android\"></i><i class=\"fa fa-flask \"></i><i class=\"fa fa-rocket\"></i> A Deep Neural Network Cyberoptic Telescope for Astrophysical Classification of Stars and Planets.</pre>"
   ]
  },
  {
   "cell_type": "markdown",
   "metadata": {},
   "source": [
    "# Import"
   ]
  },
  {
   "cell_type": "code",
   "execution_count": 3,
   "metadata": {
    "ExecuteTime": {
     "end_time": "2020-03-02T01:35:46.182052Z",
     "start_time": "2020-03-02T01:35:46.161676Z"
    }
   },
   "outputs": [],
   "source": [
    "# Import libraries\n",
    "import pandas as pd\n",
    "import numpy as np\n",
    "\n",
    "# default style/formatting\n",
    "import matplotlib as mpl\n",
    "%matplotlib inline\n",
    "import matplotlib.pyplot as plt\n",
    "import seaborn as sns\n",
    "sns.set_style('whitegrid')\n",
    "plt.style.use('seaborn-bright')\n",
    "\n",
    "font_dict={'family':'TitilliumWeb',\n",
    "          'size':16}\n",
    "mpl.rc('font',**font_dict)"
   ]
  },
  {
   "cell_type": "code",
   "execution_count": 21,
   "metadata": {
    "ExecuteTime": {
     "end_time": "2020-03-01T22:37:59.039847Z",
     "start_time": "2020-03-01T22:37:58.169592Z"
    },
    "run_control": {
     "marked": false
    }
   },
   "outputs": [],
   "source": [
    "# astro.py for extremely useful astronomical tools\n",
    "# uncomment items below to install if needed:\n",
    "\n",
    "# !pip install astropy astroquery\n",
    "# !pip install astropy spectral-cube\n",
    "# !pip install astropy reproject\n",
    "\n",
    "\n",
    "# Many of the notebooks make use of ImageFileCollections in ccdproc to inspect the image header. To install this, type:\n",
    "\n",
    "#!pip install astropy ccdproc\n",
    "\n",
    "\n",
    "import astropy.units as u"
   ]
  },
  {
   "cell_type": "markdown",
   "metadata": {},
   "source": [
    "## Libraries\n",
    "\n",
    "Required Imports\n",
    "- `astroquery.mast Observations`: Establishes a connection to a server to query MAST. Please try re-running the cell if the connection fails.\n",
    "- `os`: Python interface to the operating system.\n",
    "- `shutil`: Python shell utilities.\n",
    "- `stwcs`: HST world coordinate system (WCS) updates."
   ]
  },
  {
   "cell_type": "code",
   "execution_count": 15,
   "metadata": {},
   "outputs": [],
   "source": [
    "# set path for retrieving and storing files\n",
    "\n",
    "import os\n",
    "import shutil\n",
    "import sys"
   ]
  },
  {
   "cell_type": "code",
   "execution_count": 18,
   "metadata": {},
   "outputs": [
    {
     "data": {
      "text/plain": [
       "'/Users/hakkeray/CODE/CAPSTONE/starskope/notebooks'"
      ]
     },
     "execution_count": 18,
     "metadata": {},
     "output_type": "execute_result"
    }
   ],
   "source": [
    "%pwd"
   ]
  },
  {
   "cell_type": "code",
   "execution_count": 19,
   "metadata": {
    "ExecuteTime": {
     "end_time": "2020-03-02T01:40:23.821594Z",
     "start_time": "2020-03-02T01:40:23.660890Z"
    }
   },
   "outputs": [
    {
     "name": "stdout",
     "output_type": "stream",
     "text": [
      " kepler3-exodata.ipynb               fast-fourier-transform.ipynb\r\n",
      "FITS-image-import-astropy.ipynb      hex_coords.html\r\n",
      "Icon?                                hubble-hst-aws-api.ipynb\r\n",
      "MAST-Astroquery.ipynb                k2_tensorflow.ipynb\r\n",
      "\u001b[1m\u001b[36mNormalise\u001b[m\u001b[m/                           starskøpe-0.ipynb\r\n",
      "UVES-FITs.ipynb                      starskøpe_5_uvesSpectroscopy.ipynb\r\n",
      "astropy_Time.ipynb                   starskøpe_6_FITS-cubes.ipynb\r\n"
     ]
    }
   ],
   "source": [
    "%ls"
   ]
  },
  {
   "cell_type": "markdown",
   "metadata": {},
   "source": [
    "# Datasets\n",
    "\n",
    "## K2 Timeseries Photometry"
   ]
  },
  {
   "cell_type": "code",
   "execution_count": null,
   "metadata": {},
   "outputs": [],
   "source": [
    "# https://stsci.app.box.com/s/4no7430kswla4gsg8bt2avs72k9agpne\n",
    "\n",
    "# MAST has notebooks with astroquery/API examples:\n",
    "# •https://github.com/spacetelescope/notebooks/tree/master/notebooks/MASTAstroqueryDocumentation\n",
    "# •https://astroquery.readthedocs.io/en/latest/mast/mast.html\n",
    "# •https://astroquery.readthedocs.io/en/latest/Datasets \n",
    "# on the AWS Cloud \n",
    "# •https://mast-labs.stsci.io/2018/06/hst-public-data-on-aws\n",
    "\n",
    "# MAST Slack Channel\n",
    "# MAST Helpdesk: archive@stsci.edu"
   ]
  },
  {
   "cell_type": "code",
   "execution_count": 22,
   "metadata": {
    "ExecuteTime": {
     "end_time": "2020-03-01T22:54:36.860982Z",
     "start_time": "2020-03-01T22:54:36.806220Z"
    }
   },
   "outputs": [],
   "source": [
    "\n",
    "# train_df = pd.read_csv('exoTrain.csv')\n",
    "# test_df = pd.read_csv('exoTest.csv')"
   ]
  },
  {
   "cell_type": "markdown",
   "metadata": {},
   "source": [
    "# Scrub"
   ]
  },
  {
   "cell_type": "code",
   "execution_count": null,
   "metadata": {},
   "outputs": [],
   "source": [
    "train_df.shape\n",
    "test_df.shape"
   ]
  },
  {
   "cell_type": "code",
   "execution_count": null,
   "metadata": {},
   "outputs": [],
   "source": [
    "# checking for imbalanced classes\n",
    "train_df['LABEL'].value_counts()\n",
    "test_df['LABEL'].value_counts()"
   ]
  },
  {
   "cell_type": "code",
   "execution_count": 17,
   "metadata": {
    "ExecuteTime": {
     "end_time": "2020-03-01T22:27:44.177111Z",
     "start_time": "2020-03-01T22:27:44.167461Z"
    }
   },
   "outputs": [],
   "source": [
    "# look at the first Star in the dataset\n",
    "star0 = train_df.iloc[0, :]\n",
    "star0.head()"
   ]
  },
  {
   "cell_type": "code",
   "execution_count": 7,
   "metadata": {
    "ExecuteTime": {
     "end_time": "2020-03-01T18:14:29.318959Z",
     "start_time": "2020-03-01T18:14:29.305689Z"
    }
   },
   "outputs": [],
   "source": [
    "# Scatter Plot For First Star\n",
    "plt.figure(figsize=(15, 5))\n",
    "plt.scatter(pd.Series([i for i in range(1, len(star0))]), star0[1:])\n",
    "plt.ylabel('Flux')\n",
    "plt.xlabel('Time')\n",
    "plt.title('Flux for Star 0 - scatterplot')\n",
    "plt.show()"
   ]
  },
  {
   "cell_type": "code",
   "execution_count": null,
   "metadata": {},
   "outputs": [],
   "source": [
    "# Line Plot For First Star\n",
    "plt.figure(figsize=(15, 5))\n",
    "plt.plot(pd.Series([i for i in range(1, len(star0))]), star0[1:])\n",
    "plt.ylabel('Flux')\n",
    "plt.xlabel('Time')\n",
    "plt.title('Flux for Star 0 - line plot')\n",
    "plt.show()"
   ]
  },
  {
   "cell_type": "code",
   "execution_count": 5,
   "metadata": {
    "ExecuteTime": {
     "end_time": "2020-03-01T18:05:38.834668Z",
     "start_time": "2020-03-01T18:05:34.530172Z"
    }
   },
   "outputs": [],
   "source": [
    "\n",
    "\n",
    "from astropy.utils.data import download_file\n",
    "from astropy.io import fits  # We use fits to open the actual data file\n",
    "from astropy.utils import data\n",
    "data.conf.remote_timeout = 60\n",
    "from spectral_cube import SpectralCube\n",
    "from astroquery.esasky import ESASky\n",
    "from astroquery.utils import TableList\n",
    "from astropy.wcs import WCS\n",
    "from reproject import reproject_interp\n"
   ]
  },
  {
   "cell_type": "markdown",
   "metadata": {},
   "source": [
    " Time Series (at varying $\\phi$)📓"
   ]
  },
  {
   "cell_type": "code",
   "execution_count": null,
   "metadata": {},
   "outputs": [],
   "source": [
    "# Converting times\n",
    "# `astropy.time <http://docs.astropy.org/en/stable/time/index.html>`__ provides methods to convert times and dates between different systems and formats. Since the ESO FITS headers already contain the time of the observation in different systems, we could just read the keyword in the time system we like, but we will use astropy.time to make this conversion here. astropy.time.Time will parse many common input formats (strings, floats), but unless the format is unambiguous the format needs to be specified (e.g. a number could mean JD or MJD or year). Also, the time system needs to be given (e.g. UTC). Below are several examples, initialized from different header keywords.\n",
    "\n",
    "\n",
    "\n",
    "from astropy.time import Time\n",
    "t1 = Time(header['MJD-Obs'], format = 'mjd', scale = 'utc')\n",
    "t2 = Time(header['Date-Obs'], scale = 'utc')\n",
    "\n",
    "#Times can be expressed in different formats:\n",
    "\n",
    "t1\n",
    "t1.isot\n",
    "t2\n",
    "\n",
    "#can be converted to a different time system.\n",
    "t1.tt\n",
    "\n",
    "#<Time object: scale='tt' format='mjd' value=55784.97567650852>\n",
    "\n",
    "#Times can also be initialized from arrays and we can calculate time differences.\n",
    "\n",
    "obs_times = Time(date, scale = 'utc')\n",
    "delta_t = obs_times - Time(date[0], scale = 'utc')\n",
    "\n",
    "\n",
    "#Now we want to express the time difference between the individual spectra of MN Lup in rotational periods. While the unit of delta_t is days, unfortunately astropy.time.Time and astropy.units.Quantity objects don’t work together yet, so we’ll have to convert from one to the other explicitly.\n",
    "\n",
    "\n",
    "delta_p = delta_t.value * u.day / period"
   ]
  },
  {
   "cell_type": "code",
   "execution_count": null,
   "metadata": {},
   "outputs": [],
   "source": [
    "# Normalize the flux to the local continuum\n",
    "# In this example we want to look at the time evolution of a single specific emission line in the spectrum. In order to estimate the equivalent width or make reasonable plots we need to normalize the flux to the local continuum. In this specific case the emission line is bright and the continuum can be described reasonably by a second-order polynomial.\n",
    "\n",
    "# So, we define two regions left and right of the emission line, where we fit the polynomial. Looking at the figure, [3925*u.AA, 3930*u.AA] and [3938*u.AA, 3945*u.AA] seem right for that. Then, we normalize the flux by this polynomial.\n",
    "\n",
    "# The following function will do that:\n",
    "\n",
    "\n",
    "\n",
    "def region_around_line(w, flux, cont):\n",
    "    '''cut out and normalize flux around a line\n",
    "\n",
    "    Parameters\n",
    "    ----------\n",
    "    w : 1 dim np.ndarray array of wavelengths\n",
    "    flux : np.ndarray of shape (N, len(w))\n",
    "    array of flux values for different spectra in the series\n",
    "    cont : list of lists\n",
    "    wavelengths for continuum normalization [[low1,up1],[low2, up2]]\n",
    "    that described two areas on both sides of the line\n",
    "    '''\n",
    "    #index is true in the region where we fit the polynomial\n",
    "    indcont = ((w > cont[0][0]) & (w < cont[0][1])) |((w > cont[1][0]) & (w < cont[1][1]))\n",
    "    #index of the region we want to return\n",
    "    indrange = (w > cont[0][0]) & (w < cont[1][1])\n",
    "    # make a flux array of shape\n",
    "    # (number of spectra, number of points in indrange)\n",
    "    f = np.zeros((flux.shape[0], indrange.sum()))\n",
    "    for i in range(flux.shape[0]):\n",
    "        # fit polynomial of second order to the continuum region\n",
    "        linecoeff = np.polyfit(w[indcont], flux[i, indcont], 2)\n",
    "        # divide the flux by the polynomial and put the result in our\n",
    "        # new flux array\n",
    "        f[i,:] = flux[i,indrange] / np.polyval(linecoeff, w[indrange].value)\n",
    "    return w[indrange], f\n",
    "\n",
    "wcaII, fcaII = region_around_line(wavelength, flux,\n",
    "    [[3925*u.AA, 3930*u.AA],[3938*u.AA, 3945*u.AA]])"
   ]
  },
  {
   "cell_type": "markdown",
   "metadata": {},
   "source": [
    "# Query AWS to S3 Storage"
   ]
  },
  {
   "cell_type": "code",
   "execution_count": null,
   "metadata": {},
   "outputs": [],
   "source": [
    "# This script queries MAST for WFC3 IR data and downloads the data from \n",
    "# the AWS public dataset rather than from MAST servers.\n",
    "\n",
    "# Working with http://astroquery.readthedocs.io/en/latest/mast/mast.html\n",
    "from astroquery.mast import Observations\n",
    "import boto3\n",
    "\n",
    "# This downloads all the F160W DRZ images from CANDELS in the GOODS-South field\n",
    "obsTable = Observations.query_criteria(project='HST',\n",
    "                                       filters='F160W',\n",
    "                                       instrument_name='WFC3/IR',\n",
    "                                       proposal_id=['12062','12061','12062'])\n",
    "\n",
    "# Grab the first 100 records\n",
    "products = Observations.get_product_list(obsTable[:100])\n",
    "\n",
    "# Select only drizzled (DRZ) files\n",
    "filtered = Observations.filter_products(products,\n",
    "                                        mrp_only=False,\n",
    "                                        productSubGroupDescription='DRZ')\n",
    "\n",
    "# Enable 'S3 mode' for module which will return S3-like URLs for FITs files\n",
    "# e.g. s3://stpubdata/hst/public/icde/icde43l0q/icde43l0q_drz.fits\n",
    "Observations.enable_s3_hst_dataset()\n",
    "\n",
    "# Grab the S3 URLs for each of the observations\n",
    "s3_urls = Observations.get_hst_s3_uris(filtered)\n",
    "\n",
    "s3 = boto3.resource('s3')\n",
    "\n",
    "# Create an authenticated S3 session. Note, download within US-East is free\n",
    "# e.g. to a node on EC2.\n",
    "s3_client = boto3.client('s3',\n",
    "                         aws_access_key_id='YOURAWSACCESSKEY',\n",
    "                         aws_secret_access_key='YOURSECRETACCESSKEY')\n",
    "\n",
    "bucket = s3.Bucket('stpubdata')\n",
    "\n",
    "# Just download a few of the files (remove the [0:3] to download them all)\n",
    "for url in s3_urls[0:3]:\n",
    "  # Extract the S3 key from the S3 URL\n",
    "  fits_s3_key = url.replace(\"s3://stpubdata/\", \"\")\n",
    "  root = url.split('/')[-1]\n",
    "  bucket.download_file(fits_s3_key, root, ExtraArgs={\"RequestPayer\": \"requester\"})"
   ]
  }
 ],
 "metadata": {
  "file_extension": ".py",
  "kernelspec": {
   "display_name": "learn-env",
   "language": "python",
   "name": "learn-env"
  },
  "language_info": {
   "codemirror_mode": {
    "name": "ipython",
    "version": 3
   },
   "file_extension": ".py",
   "mimetype": "text/x-python",
   "name": "python",
   "nbconvert_exporter": "python",
   "pygments_lexer": "ipython3",
   "version": "3.7.4"
  },
  "latex_envs": {
   "LaTeX_envs_menu_present": true,
   "autoclose": false,
   "autocomplete": true,
   "bibliofile": "biblio.bib",
   "cite_by": "apalike",
   "current_citInitial": 1,
   "eqLabelWithNumbers": true,
   "eqNumInitial": 1,
   "hotkeys": {
    "equation": "Ctrl-E",
    "itemize": "Ctrl-I"
   },
   "labels_anchors": false,
   "latex_user_defs": false,
   "report_style_numbering": false,
   "user_envs_cfg": false
  },
  "mimetype": "text/x-python",
  "name": "python",
  "npconvert_exporter": "python",
  "pygments_lexer": "ipython3",
  "toc": {
   "base_numbering": 1,
   "nav_menu": {},
   "number_sections": false,
   "sideBar": true,
   "skip_h1_title": false,
   "title_cell": "Table of Contents",
   "title_sidebar": "Contents",
   "toc_cell": false,
   "toc_position": {
    "height": "calc(100% - 180px)",
    "left": "10px",
    "top": "150px",
    "width": "233.797px"
   },
   "toc_section_display": true,
   "toc_window_display": true
  },
  "varInspector": {
   "cols": {
    "lenName": 16,
    "lenType": 16,
    "lenVar": 40
   },
   "kernels_config": {
    "python": {
     "delete_cmd_postfix": "",
     "delete_cmd_prefix": "del ",
     "library": "var_list.py",
     "varRefreshCmd": "print(var_dic_list())"
    },
    "r": {
     "delete_cmd_postfix": ") ",
     "delete_cmd_prefix": "rm(",
     "library": "var_list.r",
     "varRefreshCmd": "cat(var_dic_list()) "
    }
   },
   "types_to_exclude": [
    "module",
    "function",
    "builtin_function_or_method",
    "instance",
    "_Feature"
   ],
   "window_display": false
  },
  "version": 3
 },
 "nbformat": 4,
 "nbformat_minor": 2
}
